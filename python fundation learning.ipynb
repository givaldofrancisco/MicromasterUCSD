{
 "cells": [
  {
   "cell_type": "code",
   "execution_count": 3,
   "metadata": {},
   "outputs": [
    {
     "name": "stdout",
     "output_type": "stream",
     "text": [
      "Enter number: 100\n",
      "100 is even\n"
     ]
    }
   ],
   "source": [
    "num = int(input(\"Enter number: \"))\n",
    "\n",
    "if(num % 2) == 0:\n",
    "    print(\"{0} is even\".format(num))\n",
    "else:\n",
    "    print(\"{0} is odd\".format(num))\n",
    "    "
   ]
  },
  {
   "cell_type": "code",
   "execution_count": 4,
   "metadata": {},
   "outputs": [
    {
     "name": "stdout",
     "output_type": "stream",
     "text": [
      "Enter a year: 100\n",
      "100 is not a leap year \n"
     ]
    }
   ],
   "source": [
    "year = int(input(\"Enter a year: \"))\n",
    "\n",
    "if(year % 4) == 0:\n",
    "    if(year % 100) == 0:\n",
    "        if(year % 400) == 0:\n",
    "            print(\"{0} is a leap year \".format(year))\n",
    "        else:\n",
    "            print(\"{0} is not a leap year \".format(year))\n",
    "    else:\n",
    "        print(\"{0} is a leap year \".format(year))\n",
    "else:\n",
    "    print(\"{0} is not a leap year \".format(year))"
   ]
  },
  {
   "cell_type": "code",
   "execution_count": 5,
   "metadata": {},
   "outputs": [
    {
     "name": "stdout",
     "output_type": "stream",
     "text": [
      " Enter first number: 12\n",
      " Enter second number: 14\n",
      " Enter third number: 15\n",
      "The largest number between  12.0  ,  14.0 and  15.0 is  15.0\n"
     ]
    }
   ],
   "source": [
    "num1 = float(input(\" Enter first number: \"))\n",
    "num2 = float(input(\" Enter second number: \"))\n",
    "num3 = float(input(\" Enter third number: \"))\n",
    "\n",
    "if(num1 >= num2) and (num1 >=num3):\n",
    "    largest = num1\n",
    "elif(num2 >= num1) and (num2 >=num3):\n",
    "    largest = num2\n",
    "else:\n",
    "    largest = num3\n",
    "    \n",
    "print(\"The largest number between \", num1, \" , \", num2, \"and \", num3, \"is \", largest)\n"
   ]
  },
  {
   "cell_type": "markdown",
   "metadata": {},
   "source": [
    "# verifica se é primo"
   ]
  },
  {
   "cell_type": "code",
   "execution_count": 6,
   "metadata": {
    "scrolled": true
   },
   "outputs": [
    {
     "name": "stdout",
     "output_type": "stream",
     "text": [
      "Enter a number: 44\n",
      "44 is not a prime number\n",
      "2 times 22 is 44\n"
     ]
    }
   ],
   "source": [
    "num = int(input(\"Enter a number: \"))\n",
    "\n",
    "#prime numbers are greater than 1\n",
    "\n",
    "if num > 1:\n",
    "    #check for factors\n",
    "    for i in range(2,num):\n",
    "        print(num, \"is not a prime number\")\n",
    "        print(i, \"times\", num//i,\"is\",num)# o que é esse //\n",
    "        break\n",
    "    else:\n",
    "        print(num, \"is a prime number\")\n",
    "        \n",
    "#if input number is less than\n",
    "#or equal to 1, it is not prime\n",
    "else:\n",
    "    print(num, \"is not a prime number\")\n",
    "    "
   ]
  },
  {
   "cell_type": "markdown",
   "metadata": {},
   "source": [
    "# primos intervalo"
   ]
  },
  {
   "cell_type": "code",
   "execution_count": 7,
   "metadata": {},
   "outputs": [
    {
     "name": "stdout",
     "output_type": "stream",
     "text": [
      "Enter lower range: 34\n",
      "Enter lower range: 67\n",
      "Primer numbers between 34 and 67 are: \n",
      "37\n",
      "41\n",
      "43\n",
      "47\n",
      "53\n",
      "59\n",
      "61\n",
      "67\n"
     ]
    }
   ],
   "source": [
    "lower = int(input(\"Enter lower range: \"))\n",
    "upper = int(input(\"Enter lower range: \"))\n",
    "\n",
    "print(\"Primer numbers between\", lower, \"and\",upper, \"are: \")\n",
    "\n",
    "for num in range(lower,upper +1):\n",
    "    #prime number are greater than 1\n",
    "    if num > 1:\n",
    "        for i in range(2,num):\n",
    "            if(num % i)==0:\n",
    "                #print(\"entrou no primeiro for\", num)\n",
    "                break\n",
    "        else:\n",
    "            print(num)"
   ]
  },
  {
   "cell_type": "markdown",
   "metadata": {},
   "source": [
    "# factorial"
   ]
  },
  {
   "cell_type": "code",
   "execution_count": 1,
   "metadata": {},
   "outputs": [
    {
     "name": "stdout",
     "output_type": "stream",
     "text": [
      "Enter a number: 20\n",
      "The factorial of 20 is 2432902008176640000\n"
     ]
    }
   ],
   "source": [
    "num = int(input(\"Enter a number: \"))\n",
    "\n",
    "factorial = 1\n",
    "\n",
    "#check if the number is negative, positive or zero\n",
    "\n",
    "if num <0:\n",
    "    print(\"Sorry, factorial does not exist for negative numbers\")\n",
    "elif num == 0:\n",
    "    print(\"The factorial of o is 1\")\n",
    "else:\n",
    "    for i in range(1, num + 1):\n",
    "        factorial = factorial * i\n",
    "    print(\"The factorial of\", num, \"is\", factorial)\n",
    "    \n",
    "    "
   ]
  },
  {
   "cell_type": "code",
   "execution_count": 2,
   "metadata": {},
   "outputs": [
    {
     "name": "stdout",
     "output_type": "stream",
     "text": [
      "Display multiplication table of? 10\n",
      "10 x 1 = 10\n",
      "10 x 2 = 20\n",
      "10 x 3 = 30\n",
      "10 x 4 = 40\n",
      "10 x 5 = 50\n",
      "10 x 6 = 60\n",
      "10 x 7 = 70\n",
      "10 x 8 = 80\n",
      "10 x 9 = 90\n",
      "10 x 10 = 100\n"
     ]
    }
   ],
   "source": [
    "num = int(input(\"Display multiplication table of? \"))\n",
    "\n",
    "#use for loop to iterate 10 times\n",
    "for i in range(1,11):\n",
    "    print(num, \"x\",i,\"=\",num * i)"
   ]
  },
  {
   "cell_type": "markdown",
   "metadata": {},
   "source": [
    "# Fibonacci"
   ]
  },
  {
   "cell_type": "code",
   "execution_count": 1,
   "metadata": {},
   "outputs": [
    {
     "name": "stdout",
     "output_type": "stream",
     "text": [
      "How many terms? 12\n",
      "Fibonacci sequence upto 12 :\n",
      "0 , 1 , 1 , 2 , 3 , 5 , 8 , 13 , 21 , 34 , 55 , 89 , "
     ]
    }
   ],
   "source": [
    "nterms = int(input(\"How many terms? \"))\n",
    "\n",
    "#first two terms\n",
    "n1 = 0\n",
    "n2 = 1\n",
    "count = 0\n",
    "\n",
    "#check if the number of terms is valid\n",
    "if nterms <= 0:\n",
    "    print(\"Plese enter a positive integer\")\n",
    "elif nterms == 1:\n",
    "    print(\"Fibonacci sequence upto\", nterms,\":\")\n",
    "    print(n1)\n",
    "else:\n",
    "    print(\"Fibonacci sequence upto\", nterms,\":\")\n",
    "    while count < nterms:\n",
    "        print(n1, end=' , ')# esse end=' , '  mantem na mesma linda o resultado do for\n",
    "        nth = n1 + n2\n",
    "        #update values\n",
    "        n1 = n2\n",
    "        n2 = nth\n",
    "        count +=1\n",
    "        \n"
   ]
  },
  {
   "cell_type": "code",
   "execution_count": 15,
   "metadata": {},
   "outputs": [
    {
     "name": "stdout",
     "output_type": "stream",
     "text": [
      "Enter a number: 12\n",
      "2\n",
      "1\n",
      "12 is no an Armstrong number\n"
     ]
    }
   ],
   "source": [
    "num = int(input(\"Enter a number: \"))\n",
    "\n",
    "#inicializa a soma\n",
    "sum=0\n",
    "\n",
    "#find the sum of the cube of each digit\n",
    "temp = num\n",
    "digit=0\n",
    "while temp > 0:\n",
    "    digit = temp % 10\n",
    "    print(str(digit))\n",
    "    sum += digit ** 3\n",
    "    temp //=10\n",
    "\n",
    "if num == sum:\n",
    "    print(num,\"is an Armstrong number\")\n",
    "else:\n",
    "    print(num,\"is no an Armstrong number\")"
   ]
  },
  {
   "cell_type": "code",
   "execution_count": 14,
   "metadata": {},
   "outputs": [
    {
     "name": "stdout",
     "output_type": "stream",
     "text": [
      "Enter a number: 16\n",
      "The sum is 136\n"
     ]
    }
   ],
   "source": [
    "num = int(input(\"Enter a number: \"))\n",
    "\n",
    "if num < 0:\n",
    "    print(\"Enter a positive number\")\n",
    "else:\n",
    "    sum = 0\n",
    "    #use while loop to iterate untill zero\n",
    "    while(num > 0):\n",
    "        sum += num\n",
    "        num -= 1\n",
    "    print(\"The sum is\", sum)\n",
    "    "
   ]
  },
  {
   "cell_type": "markdown",
   "metadata": {},
   "source": [
    "# Anonymous function"
   ]
  },
  {
   "cell_type": "code",
   "execution_count": 16,
   "metadata": {},
   "outputs": [
    {
     "name": "stdout",
     "output_type": "stream",
     "text": [
      "how many terms? 10\n",
      "The total terms is:  10\n",
      "2 raised to power  0 is 1\n",
      "2 raised to power  1 is 2\n",
      "2 raised to power  2 is 4\n",
      "2 raised to power  3 is 8\n",
      "2 raised to power  4 is 16\n",
      "2 raised to power  5 is 32\n",
      "2 raised to power  6 is 64\n",
      "2 raised to power  7 is 128\n",
      "2 raised to power  8 is 256\n",
      "2 raised to power  9 is 512\n"
     ]
    }
   ],
   "source": [
    "terms = int(input(\"how many terms? \"))\n",
    "\n",
    "# use anonymous function\n",
    "result = list(map(lambda x: 2 ** x, range(terms)))# lambda ???\n",
    "\n",
    "#display the result\n",
    "\n",
    "print(\"The total terms is: \", terms)\n",
    "for i in range(terms):\n",
    "    print(\"2 raised to power \", i, \"is\", result[i])\n",
    "    \n"
   ]
  },
  {
   "cell_type": "code",
   "execution_count": 18,
   "metadata": {},
   "outputs": [
    {
     "name": "stdout",
     "output_type": "stream",
     "text": [
      "Numbers divisible by 13 are  [65, 39, 221]\n"
     ]
    }
   ],
   "source": [
    "# take a list of numbers\n",
    "\n",
    "my_list = [12, 65, 54, 39, 102, 339, 221,]\n",
    "\n",
    "#use anonymous function to filter\n",
    "result = list(filter(lambda x: (x % 13 == 0),my_list))# filter - lambda ????\n",
    "\n",
    "#display the result\n",
    "print(\"Numbers divisible by 13 are \", result)"
   ]
  },
  {
   "cell_type": "code",
   "execution_count": 19,
   "metadata": {},
   "outputs": [
    {
     "name": "stdout",
     "output_type": "stream",
     "text": [
      "The decimal value of 344 is:\n",
      "0b101011000 in binary.\n",
      "0o530 in octal.\n",
      "0x158 in Hexdecimal.\n"
     ]
    }
   ],
   "source": [
    "# convert decimal to binary, octal and hexadecimal\n",
    "# change this line for a different result\n",
    "\n",
    "dec = 344\n",
    "\n",
    "print(\"The decimal value of\", dec,\"is:\")\n",
    "print(bin(dec),\"in binary.\")\n",
    "print(oct(dec),\"in octal.\")\n",
    "print(hex(dec),\"in Hexdecimal.\")"
   ]
  },
  {
   "cell_type": "code",
   "execution_count": 20,
   "metadata": {},
   "outputs": [
    {
     "name": "stdout",
     "output_type": "stream",
     "text": [
      "Enter a character: 2\n",
      "The ASCII value of '2' is 50\n"
     ]
    }
   ],
   "source": [
    "c = input(\"Enter a character: \")\n",
    "\n",
    "print(\"The ASCII value of '\" + c + \"' is\", ord(c))# como representa aspas simples dentro do texto\n"
   ]
  },
  {
   "cell_type": "code",
   "execution_count": 26,
   "metadata": {},
   "outputs": [
    {
     "name": "stdout",
     "output_type": "stream",
     "text": [
      "Enter first number: 12\n",
      "Enter second number: 87\n",
      "The H.C.F. of  12 and 87 is 3\n"
     ]
    }
   ],
   "source": [
    "# define a function\n",
    "\n",
    "def computeHCF(x,y):\n",
    "    \n",
    "    #choose the smaller number\n",
    "    if x > y:\n",
    "        smaller = y\n",
    "    else:\n",
    "        smaller = x\n",
    "    for i in range(1, smaller +1):\n",
    "        \n",
    "        if((x % i ==0)and (y % i == 0)):\n",
    "            hcf = i\n",
    "            \n",
    "    return hcf\n",
    "\n",
    "#take input from user\n",
    "\n",
    "num1 = int(input(\"Enter first number: \"))\n",
    "num2 = int(input(\"Enter second number: \"))\n",
    "\n",
    "print(\"The H.C.F. of \", num1, \"and\", num2, \"is\", computeHCF(num1, num2))\n"
   ]
  },
  {
   "cell_type": "code",
   "execution_count": 32,
   "metadata": {},
   "outputs": [
    {
     "name": "stdout",
     "output_type": "stream",
     "text": [
      "Enter first number :3\n",
      "Enter second number :6\n",
      "The L.C.M of  3 and 6 is 6\n"
     ]
    }
   ],
   "source": [
    "def lcm(x,y):\n",
    "#\"This function takes two integers and results the L.C.M.\"\"\n",
    "\n",
    "#choose the greater number\n",
    "\n",
    "    if x > y:\n",
    "        greater = x\n",
    "    else:\n",
    "        greater = y\n",
    "\n",
    "    while(True):\n",
    "        if((greater % x == 0) and (greater % y == 0)):\n",
    "            lcm = greater\n",
    "            break\n",
    "        greater +=1\n",
    "        \n",
    "    return lcm\n",
    "        \n",
    "    \n",
    "num1 = int(input(\"Enter first number :\"))\n",
    "num2 = int(input(\"Enter second number :\"))\n",
    "\n",
    "print(\"The L.C.M of \", num1, \"and\", num2, \"is\", lcm(num1,num2))\n",
    "\n"
   ]
  },
  {
   "cell_type": "code",
   "execution_count": 35,
   "metadata": {},
   "outputs": [
    {
     "name": "stdout",
     "output_type": "stream",
     "text": [
      "Enter a number: 320\n",
      "The factor of 320 are: \n",
      "1\n",
      "2\n",
      "4\n",
      "5\n",
      "8\n",
      "10\n",
      "16\n",
      "20\n",
      "32\n",
      "40\n",
      "64\n",
      "80\n",
      "160\n",
      "320\n"
     ]
    }
   ],
   "source": [
    "def print_factors(x):\n",
    "    \n",
    "    print(\"The factor of\", x , \"are: \")\n",
    "    for i in range(1, x + 1):\n",
    "        if x % i == 0:\n",
    "            print(i)\n",
    "\n",
    "num = int(input(\"Enter a number: \"))\n",
    "\n",
    "print_factors(num)\n"
   ]
  },
  {
   "cell_type": "code",
   "execution_count": 37,
   "metadata": {},
   "outputs": [
    {
     "name": "stdout",
     "output_type": "stream",
     "text": [
      "select operator.\n",
      "1. ADD\n",
      "2. Subtract\n",
      "3. multiply\n",
      "4. Divide\n",
      "Enter choice (1/2/3/4):2\n",
      "Enter first number: 4\n",
      "Enter second number: 5\n",
      "4 - 5 = -1\n"
     ]
    }
   ],
   "source": [
    "def add(x,y):\n",
    "    return x+y\n",
    "\n",
    "def sub(x,y):\n",
    "    return x-y\n",
    "\n",
    "def mul(x,y):\n",
    "    return x*y\n",
    "\n",
    "def div(x,y):\n",
    "    return x/y\n",
    "\n",
    "\n",
    "print(\"select operator.\")\n",
    "print(\"1. ADD\")\n",
    "print(\"2. Subtract\")\n",
    "print(\"3. multiply\")\n",
    "print(\"4. Divide\")\n",
    "\n",
    "choice = input(\"Enter choice (1/2/3/4):\")\n",
    "\n",
    "num1 = int(input(\"Enter first number: \"))\n",
    "num2 = int(input(\"Enter second number: \"))\n",
    "\n",
    "if choice == '1':\n",
    "    print(num1,\"+\", num2, \"=\", add(num1,num2))\n",
    "\n",
    "elif choice =='2':\n",
    "    print(num1,\"-\", num2, \"=\", sub(num1,num2))\n",
    "\n",
    "elif choice =='3':\n",
    "    print(num1,\"*\", num2, \"=\", mul(num1,num2))\n",
    "    \n",
    "elif choice =='4':\n",
    "    print(num1,\"/\", num2, \"=\", dic(num1,num2))\n",
    "    \n",
    "else:\n",
    "    print(\"invalid input \")\n"
   ]
  },
  {
   "cell_type": "code",
   "execution_count": 40,
   "metadata": {},
   "outputs": [
    {
     "name": "stdout",
     "output_type": "stream",
     "text": [
      "you got:\n",
      "2 of Diamond\n",
      "8 of Diamond\n",
      "3 of Club\n",
      "1 of Club\n",
      "12 of spade\n"
     ]
    }
   ],
   "source": [
    "import itertools, random\n",
    "\n",
    "deck = list(itertools.product(range(1,14),['spade','Heart','Diamond','Club']))\n",
    "\n",
    "random.shuffle(deck)\n",
    "\n",
    "print(\"you got:\")\n",
    "\n",
    "for i in range(5):\n",
    "    print(deck[i][0], \"of\", deck[i][1])\n",
    "    \n",
    "    "
   ]
  },
  {
   "cell_type": "code",
   "execution_count": 48,
   "metadata": {},
   "outputs": [
    {
     "name": "stdout",
     "output_type": "stream",
     "text": [
      "year - month - day - hour - minute - second 2018 9 28 10 42 32\n",
      "   September 2018\n",
      "Mo Tu We Th Fr Sa Su\n",
      "                1  2\n",
      " 3  4  5  6  7  8  9\n",
      "10 11 12 13 14 15 16\n",
      "17 18 19 20 21 22 23\n",
      "24 25 26 27 28 29 30\n",
      "\n"
     ]
    }
   ],
   "source": [
    "import calendar\n",
    "import datetime\n",
    "\n",
    "now = datetime.datetime.now()\n",
    "print (\"year - month - day - hour - minute - second\",now.year, now.month, now.day, now.hour, now.minute, now.second)\n",
    "\n",
    "#yy = int(input(\"Enter year: \"))\n",
    "#mm = int(input(\"Enter month: \"))\n",
    "         \n",
    "\n",
    "print(calendar.month(int(now.year),int(now.month)))        \n",
    "         "
   ]
  },
  {
   "cell_type": "code",
   "execution_count": 54,
   "metadata": {},
   "outputs": [
    {
     "name": "stdout",
     "output_type": "stream",
     "text": [
      "how many terms?30\n",
      "Fibonacci sequence:\n",
      "i = 0\n",
      "0\n",
      "i = 1\n",
      "1\n",
      "i = 2\n",
      "1\n",
      "i = 3\n",
      "2\n",
      "i = 4\n",
      "3\n",
      "i = 5\n",
      "5\n",
      "i = 6\n",
      "8\n",
      "i = 7\n",
      "13\n",
      "i = 8\n",
      "21\n",
      "i = 9\n",
      "34\n",
      "i = 10\n",
      "55\n",
      "i = 11\n",
      "89\n",
      "i = 12\n",
      "144\n",
      "i = 13\n",
      "233\n",
      "i = 14\n",
      "377\n",
      "i = 15\n",
      "610\n",
      "i = 16\n",
      "987\n",
      "i = 17\n",
      "1597\n",
      "i = 18\n",
      "2584\n",
      "i = 19\n",
      "4181\n",
      "i = 20\n",
      "6765\n",
      "i = 21\n",
      "10946\n",
      "i = 22\n",
      "17711\n",
      "i = 23\n",
      "28657\n",
      "i = 24\n",
      "46368\n",
      "i = 25\n",
      "75025\n",
      "i = 26\n",
      "121393\n",
      "i = 27\n",
      "196418\n",
      "i = 28\n",
      "317811\n",
      "i = 29\n",
      "514229\n"
     ]
    }
   ],
   "source": [
    "def recur_fibo(n):\n",
    "    if n <=1:\n",
    "        return n\n",
    "    else:\n",
    "        return(recur_fibo(n-1) + recur_fibo(n-2))\n",
    "    \n",
    "nterms = int(input(\"how many terms?\"))    \n",
    "\n",
    "if nterms <= 0:\n",
    "    print(\"please, enter a positive integer\" )\n",
    "    \n",
    "else:\n",
    "    print(\"Fibonacci sequence:\")\n",
    "    for i in range(nterms):\n",
    "        print(\"i =\",i)\n",
    "        print(recur_fibo(i))\n",
    "        \n",
    "        \n",
    "        "
   ]
  },
  {
   "cell_type": "code",
   "execution_count": 65,
   "metadata": {},
   "outputs": [
    {
     "name": "stdout",
     "output_type": "stream",
     "text": [
      "Enter a number: 1000\n",
      "the sum is 500500\n"
     ]
    }
   ],
   "source": [
    "def recur_sum(n):\n",
    "    if n <= 1:\n",
    "        return n\n",
    "    else:\n",
    "        return n + recur_sum(n-1)\n",
    "    \n",
    "num = int(input(\"Enter a number: \"))\n",
    "\n",
    "if num < 0:\n",
    "    print(\"Enter a positive number\")\n",
    "else:\n",
    "    print(\"the sum is\", recur_sum(num))\n"
   ]
  },
  {
   "cell_type": "code",
   "execution_count": 68,
   "metadata": {},
   "outputs": [
    {
     "name": "stdout",
     "output_type": "stream",
     "text": [
      "Enter a number:100\n",
      "The factorial of 100 is 93326215443944152681699238856266700490715968264381621468592963895217599993229915608941463976156518286253697920827223758251185210916864000000000000000000000000\n"
     ]
    }
   ],
   "source": [
    "def recur_factorial(n):\n",
    "    if n == 1:\n",
    "        return n\n",
    "    else:\n",
    "        return n * recur_factorial(n-1)\n",
    "    \n",
    "num = int(input(\"Enter a number:\"))\n",
    "\n",
    "if num < 0:\n",
    "    print(\"sorry, factorial does not exist for negative numbers\")\n",
    "elif num == 0:\n",
    "    print(\"the factorial of 0 is 1\")\n",
    "\n",
    "else:\n",
    "    print(\"The factorial of\", num, \"is\", recur_factorial(num))\n",
    "    "
   ]
  },
  {
   "cell_type": "code",
   "execution_count": 81,
   "metadata": {},
   "outputs": [
    {
     "name": "stdout",
     "output_type": "stream",
     "text": [
      "5\n",
      "50.0\n",
      "50.625\n"
     ]
    }
   ],
   "source": [
    "print(int(10.5//2))# divisão com dois // arredonda o numero\n",
    "print(101.25//2)# 50.0\n",
    "print(101.25/2)# 50.625\n"
   ]
  },
  {
   "cell_type": "code",
   "execution_count": 87,
   "metadata": {},
   "outputs": [
    {
     "name": "stdout",
     "output_type": "stream",
     "text": [
      "1 0 1 0 "
     ]
    }
   ],
   "source": [
    "def convertToBinary(n):\n",
    "    \n",
    "    if n > 1:\n",
    "        convertToBinary(n//2)\n",
    "    print(n % 2, end = ' ')\n",
    "    \n",
    "dec=10\n",
    "\n",
    "convertToBinary(dec)"
   ]
  },
  {
   "cell_type": "code",
   "execution_count": 88,
   "metadata": {},
   "outputs": [
    {
     "name": "stdout",
     "output_type": "stream",
     "text": [
      "[12, 4, 3]\n",
      "[7, 5, 8]\n"
     ]
    }
   ],
   "source": [
    "x = [[12,7],\n",
    "    [4,5],\n",
    "    [3,8]]\n",
    "\n",
    "result = [[0,0,0],\n",
    "          [0,0,0]]\n",
    "\n",
    "for i in range(len(x)):\n",
    "    for j in range(len(x[0])):\n",
    "        result[j][i] = x[i][j]\n",
    "\n",
    "for r in result:\n",
    "    print(r)"
   ]
  },
  {
   "cell_type": "code",
   "execution_count": 89,
   "metadata": {
    "scrolled": true
   },
   "outputs": [
    {
     "name": "stdout",
     "output_type": "stream",
     "text": [
      "it is a palindrome\n"
     ]
    }
   ],
   "source": [
    "my_str = 'aibohphobia'\n",
    "\n",
    "my_str = my_str.casefold()\n",
    "\n",
    "rev_str = reversed(my_str)\n",
    "\n",
    "if list(my_str)==list(rev_str):\n",
    "    print(\"it is a palindrome\")\n",
    "    \n",
    "else:\n",
    "    print(\" it is not a palindrome\")"
   ]
  },
  {
   "cell_type": "markdown",
   "metadata": {},
   "source": [
    "# retirar pontuações não desejadas"
   ]
  },
  {
   "cell_type": "code",
   "execution_count": 90,
   "metadata": {},
   "outputs": [
    {
     "name": "stdout",
     "output_type": "stream",
     "text": [
      "Hello he said  and went \n"
     ]
    }
   ],
   "source": [
    "punctuations = '''!()-[]{};:\"\\,<>./?@#$%&*_-'''\n",
    "\n",
    "my_str = \"Hello!!!, he said ---- and went $#$$%$\"\n",
    "\n",
    "no_punct = \"\"\n",
    "\n",
    "for char in my_str:\n",
    "    if char not in punctuations:\n",
    "        no_punct = no_punct + char\n",
    "        \n",
    "print(no_punct)"
   ]
  },
  {
   "cell_type": "code",
   "execution_count": 93,
   "metadata": {},
   "outputs": [
    {
     "name": "stdout",
     "output_type": "stream",
     "text": [
      "Enter a string isso é um teste\n",
      "the sorted words are: \n",
      "isso\n",
      "teste\n",
      "um\n",
      "é\n"
     ]
    }
   ],
   "source": [
    "my_str = input(\"Enter a string \")\n",
    "\n",
    "words = my_str.split()\n",
    "\n",
    "words.sort()\n",
    "\n",
    "print(\"the sorted words are: \")\n",
    "\n",
    "for word in words:\n",
    "    print(word)\n",
    "\n"
   ]
  },
  {
   "cell_type": "code",
   "execution_count": 102,
   "metadata": {},
   "outputs": [
    {
     "name": "stdout",
     "output_type": "stream",
     "text": [
      "union of E and N is  {0, 1, 2, 3, 4, 5, 6, 8}\n",
      "intersection E and N is  {2, 4}\n",
      "difference of E and N is  {0, 8, 6}\n",
      "Symetric of E and N is  {0, 1, 3, 5, 6, 8}\n"
     ]
    }
   ],
   "source": [
    "E = {0,2,4,6,8};\n",
    "N = {1,2,3,4,5};\n",
    "\n",
    "print(\"union of E and N is \", E | N)\n",
    "\n",
    "print(\"intersection E and N is \", E & N)\n",
    "\n",
    "print(\"difference of E and N is \", E - N)\n",
    "\n",
    "print(\"Symetric of E and N is \", E ^ N)\n",
    "\n",
    "\n",
    "\n",
    "\n"
   ]
  },
  {
   "cell_type": "code",
   "execution_count": 103,
   "metadata": {},
   "outputs": [
    {
     "name": "stdout",
     "output_type": "stream",
     "text": [
      "Enter a string: givaldo\n",
      "{'a': 1, 'e': 0, 'i': 1, 'o': 1, 'u': 0}\n"
     ]
    }
   ],
   "source": [
    "vowels = 'aeiou'\n",
    "\n",
    "ip_str = input(\"Enter a string: \")\n",
    "\n",
    "ip_str = ip_str.casefold()\n",
    "\n",
    "count = {}.fromkeys(vowels,0)\n",
    "\n",
    "for char in ip_str:\n",
    "    if char in count:\n",
    "        count[char]+=1\n",
    "        \n",
    "print(count)"
   ]
  },
  {
   "cell_type": "code",
   "execution_count": 131,
   "metadata": {},
   "outputs": [
    {
     "name": "stdout",
     "output_type": "stream",
     "text": [
      "<_io.TextIOWrapper name='names.txt' mode='r' encoding='utf-8'>\n",
      "body:\n",
      "ddssdfs\n",
      "sd\n",
      "fds\n",
      "fds\n",
      "fsd\n",
      "fsd\n",
      "fsd\n",
      "fds\n",
      "fds\n",
      "ffgfdgd\n",
      "g\n",
      "fg\n",
      "b\n",
      "\n",
      "b\n",
      "<_io.TextIOWrapper name='names.txt' mode='r' encoding='utf-8'>\n",
      "for \n",
      "print mail_file  <_io.TextIOWrapper name='givado.txt' mode='w' encoding='utf-8'>\n",
      "for \n",
      "print mail_file  <_io.TextIOWrapper name='francisco.txt' mode='w' encoding='utf-8'>\n",
      "for \n",
      "print mail_file  <_io.TextIOWrapper name='silva.txt' mode='w' encoding='utf-8'>\n",
      "for \n",
      "print mail_file  <_io.TextIOWrapper name='vivald.txt' mode='w' encoding='utf-8'>\n",
      "for \n",
      "print mail_file  <_io.TextIOWrapper name='descartes.txt' mode='w' encoding='utf-8'>\n",
      "for \n",
      "print mail_file  <_io.TextIOWrapper name='galileu.txt' mode='w' encoding='utf-8'>\n"
     ]
    }
   ],
   "source": [
    "with open(\"names.txt\",'r',encoding = 'utf-8') as names_file:\n",
    "    print(names_file)\n",
    "    #name_file2 = names_file\n",
    "    #names2 = name_file2.read()\n",
    "    #print(names2)\n",
    "    \n",
    "    with open(\"body.txt\",'r',encoding = 'utf-8') as body_file:    \n",
    "\n",
    "        body = body_file.read()\n",
    "        print(\"body:\")\n",
    "        print(body)\n",
    "        print(names_file)\n",
    "\n",
    "        for name in names_file:\n",
    "            mail = \"Hello\" + name + body\n",
    "            print(\"for \")\n",
    "\n",
    "            with open(name.strip() + \".txt\",'w',encoding = 'utf-8') as mail_file:\n",
    "                mail_file.write(mail)\n",
    "                print(\"print mail_file \",mail_file)\n",
    "            \n",
    "            \n",
    "        "
   ]
  },
  {
   "cell_type": "code",
   "execution_count": 142,
   "metadata": {},
   "outputs": [
    {
     "name": "stdout",
     "output_type": "stream",
     "text": [
      "função \n",
      "<_io.BufferedReader name='img1.jpg'>\n",
      "b'\\x00\\x00'\n",
      "The resolution of the image is 0 x 0\n"
     ]
    }
   ],
   "source": [
    "def jpeg_res(filename):\n",
    "    print(\"função \")\n",
    "    with open(filename,'rb') as img_file:\n",
    "        print(img_file)\n",
    "        \n",
    "        img_file.seek(163)\n",
    "        \n",
    "        a = img_file.read(2)\n",
    "        \n",
    "        print(a)\n",
    "        \n",
    "        height = (a[0]<<8)+ a[1]\n",
    "        \n",
    "        a = img_file.read(2)\n",
    "        \n",
    "        width = (a[0]<<8) + a[1]\n",
    "        \n",
    "    print(\"The resolution of the image is\", width, \"x\", height)\n",
    "    \n",
    "\n",
    "jpeg_res(\"img1.jpg\")\n",
    "    \n",
    "    "
   ]
  },
  {
   "cell_type": "code",
   "execution_count": 146,
   "metadata": {},
   "outputs": [
    {
     "name": "stdout",
     "output_type": "stream",
     "text": [
      "<sha1 HASH object @ 0x000001EB413197B0>\n",
      "bd68541ca2e534ea17438fa8c1dd272a1936a08d\n"
     ]
    }
   ],
   "source": [
    "import hashlib\n",
    "\n",
    "def hash_file(filename):\n",
    "    h = hashlib.sha1()\n",
    "    print(h)\n",
    "    \n",
    "    with open(filename,'rb') as file:\n",
    "        \n",
    "        chunk = 0\n",
    "        \n",
    "        while chunk != b'':\n",
    "            chunk = file.read(1024)\n",
    "            h.update(chunk)\n",
    "        \n",
    "    return h.hexdigest()\n",
    "\n",
    "message = hash_file(\"Pokerface.mp3\")\n",
    "\n",
    "print(message)"
   ]
  },
  {
   "cell_type": "code",
   "execution_count": 158,
   "metadata": {},
   "outputs": [
    {
     "name": "stdout",
     "output_type": "stream",
     "text": [
      "Enter string: hello123\n",
      "The number of digits is: \n",
      "3\n",
      "The number of characters is:\n",
      "8\n"
     ]
    }
   ],
   "source": [
    "string = input(\"Enter string: \")\n",
    "\n",
    "\n",
    "count1=0\n",
    "count2=0\n",
    "\n",
    "for i in string:\n",
    "    \n",
    "    if(i.isdigit()):\n",
    "        count1=count1+1\n",
    "    count2 = count2+1\n",
    "    \n",
    "print(\"The number of digits is: \")\n",
    "print(count1)\n",
    "print(\"The number of characters is:\")\n",
    "print(count2)\n",
    "\n",
    "        \n",
    "        "
   ]
  },
  {
   "cell_type": "code",
   "execution_count": 159,
   "metadata": {},
   "outputs": [
    {
     "name": "stdout",
     "output_type": "stream",
     "text": [
      "Enter string: hello\n",
      "The number of lowercase characters is: \n",
      "5\n"
     ]
    }
   ],
   "source": [
    "string = input(\"Enter string: \")\n",
    "count=0\n",
    "\n",
    "for i in string:\n",
    "    if(i.islower()):\n",
    "        count=count+1\n",
    "\n",
    "print(\"The number of lowercase characters is: \")\n",
    "\n",
    "print(count)\n"
   ]
  },
  {
   "cell_type": "code",
   "execution_count": 160,
   "metadata": {},
   "outputs": [
    {
     "name": "stdout",
     "output_type": "stream",
     "text": [
      "Enter string: hello world\n",
      "Enter word: world\n",
      "substring in string!\n"
     ]
    }
   ],
   "source": [
    "string = input(\"Enter string: \")\n",
    "\n",
    "sub_str= input(\"Enter word: \")\n",
    "\n",
    "if(string.find(sub_str)==-1):\n",
    "    print(\"substring not found in string!\")\n",
    "    \n",
    "else:\n",
    "    print(\"substring in string!\")"
   ]
  },
  {
   "cell_type": "code",
   "execution_count": 161,
   "metadata": {},
   "outputs": [
    {
     "name": "stdout",
     "output_type": "stream",
     "text": [
      "Enter string: hello\n",
      "modified string is:\n",
      "hlo\n"
     ]
    }
   ],
   "source": [
    "def modify(string):\n",
    "    final = \"\"\n",
    "    for i in range(len(string)):\n",
    "        if i % 2 == 0:\n",
    "            final = final + string[i]\n",
    "    \n",
    "    return final\n",
    "string = input(\"Enter string: \")\n",
    "print(\"modified string is:\")\n",
    "print(modify(string))\n"
   ]
  },
  {
   "cell_type": "code",
   "execution_count": 162,
   "metadata": {},
   "outputs": [
    {
     "name": "stdout",
     "output_type": "stream",
     "text": [
      "enter string: hello world\n",
      "newly formed string is: \n",
      "held\n"
     ]
    }
   ],
   "source": [
    "string = input(\"enter string: \")\n",
    "\n",
    "count=0\n",
    "\n",
    "for i in string:\n",
    "    count=count+1\n",
    "new = string[0:2]+string[count-2:count]\n",
    "print(\"newly formed string is: \")\n",
    "print(new)\n"
   ]
  },
  {
   "cell_type": "code",
   "execution_count": 163,
   "metadata": {},
   "outputs": [
    {
     "name": "stdout",
     "output_type": "stream",
     "text": [
      "enter a key int to be added: 12\n",
      "enter the value for the key to be added:34\n",
      "updated dictionary is:\n",
      "{12: 34}\n"
     ]
    }
   ],
   "source": [
    "key = int(input(\"enter a key int to be added: \"))\n",
    "\n",
    "value = int(input(\"enter the value for the key to be added:\"))\n",
    "\n",
    "d={}\n",
    "\n",
    "d.update({key:value})\n",
    "print(\"updated dictionary is:\")\n",
    "print(d)\n"
   ]
  },
  {
   "cell_type": "code",
   "execution_count": 164,
   "metadata": {},
   "outputs": [
    {
     "name": "stdout",
     "output_type": "stream",
     "text": [
      "concatenated dictionary is: \n",
      "{'A': 1, 'B': 2, 'C': 3}\n"
     ]
    }
   ],
   "source": [
    "d1 = {'A':1,'B':2}\n",
    "d2 = {'C':3}\n",
    "d1.update(d2)\n",
    "\n",
    "print(\"concatenated dictionary is: \")\n",
    "print(d1)"
   ]
  },
  {
   "cell_type": "code",
   "execution_count": 165,
   "metadata": {},
   "outputs": [
    {
     "name": "stdout",
     "output_type": "stream",
     "text": [
      "enter key to check: A\n",
      "key is present and value of the key is\n",
      "1\n"
     ]
    }
   ],
   "source": [
    "d={'A':1,'B':2,'C':3}\n",
    "key=input(\"enter key to check: \")\n",
    "\n",
    "if key in d.keys():\n",
    "    print(\"key is present and value of the key is\")\n",
    "    print(d[key])\n",
    "else:\n",
    "    print(\"key isnt present\")\n",
    "    \n",
    "    \n",
    "    "
   ]
  },
  {
   "cell_type": "code",
   "execution_count": 166,
   "metadata": {},
   "outputs": [
    {
     "name": "stdout",
     "output_type": "stream",
     "text": [
      "23900\n"
     ]
    }
   ],
   "source": [
    "d={'A':10,'B':10,'C':239}\n",
    "tot=1\n",
    "for i in d:\n",
    "    tot = tot*d[i]\n",
    "\n",
    "print(tot)\n"
   ]
  },
  {
   "cell_type": "code",
   "execution_count": 167,
   "metadata": {},
   "outputs": [
    {
     "name": "stdout",
     "output_type": "stream",
     "text": [
      "initial dictionary \n",
      "{'a': 1, 'b': 2, 'c': 3, 'd': 4}\n",
      "Enter the key to delete(a-d): c\n",
      "updated dictionary\n",
      "{'a': 1, 'b': 2, 'd': 4}\n"
     ]
    }
   ],
   "source": [
    "d = {'a':1,'b':2,'c':3,'d':4}\n",
    "\n",
    "print(\"initial dictionary \")\n",
    "print(d)\n",
    "\n",
    "key = input(\"Enter the key to delete(a-d): \")\n",
    "\n",
    "if key in d:\n",
    "    del d[key]\n",
    "else:\n",
    "    print(\"key not found!\")\n",
    "    exit(0)\n",
    "print(\"updated dictionary\")\n",
    "print(d)"
   ]
  },
  {
   "cell_type": "code",
   "execution_count": 168,
   "metadata": {},
   "outputs": [
    {
     "name": "stdout",
     "output_type": "stream",
     "text": [
      "enter string: hello world\n",
      "count of the vowels is:\n",
      "3\n"
     ]
    }
   ],
   "source": [
    "s=input(\"enter string: \")\n",
    "\n",
    "count=0\n",
    "\n",
    "vowels = set(\"aeiou\")\n",
    "\n",
    "for letter in s:\n",
    "    if letter in vowels:\n",
    "        count +=1\n",
    "\n",
    "print(\"count of the vowels is:\")\n",
    "print(count)"
   ]
  },
  {
   "cell_type": "code",
   "execution_count": 30,
   "metadata": {},
   "outputs": [
    {
     "name": "stdout",
     "output_type": "stream",
     "text": [
      "enter first string isso é um teste\n",
      "enter second string para ver a letras que coincidem nas duas frases\n",
      "the common letter are: \n",
      " \n",
      "t\n",
      "m\n",
      "s\n",
      "i\n",
      "e\n",
      "u\n",
      "o\n"
     ]
    }
   ],
   "source": [
    "s1 = input(\"enter first string \")\n",
    "s2 = input(\"enter second string \")\n",
    "\n",
    "a=list(set(s1) & set(s2))# envia para lista 'a' o que é em comum com s1 e s2 \n",
    "\n",
    "print(\"the common letter are: \")\n",
    "\n",
    "for i in a: # \n",
    "    print(i)\n",
    "    "
   ]
  },
  {
   "cell_type": "code",
   "execution_count": 14,
   "metadata": {},
   "outputs": [
    {
     "name": "stdout",
     "output_type": "stream",
     "text": [
      "enter the name of the file with .txt extension: givado.txt\n",
      "<_io.TextIOWrapper name='givado.txt' mode='r' encoding='cp1252'>\n",
      "Hello givado\n",
      "\n",
      "Hello givado\n",
      "\n",
      "ddssdfs\n",
      "\n",
      "sd\n",
      "\n",
      "fds\n",
      "\n",
      "fds\n",
      "\n",
      "fsd\n",
      "\n",
      "fsd\n",
      "\n",
      "fsd\n",
      "\n",
      "fds\n",
      "\n",
      "fds\n",
      "\n",
      "ffgfdgd\n",
      "\n",
      "g\n",
      "\n",
      "fg\n",
      "\n"
     ]
    }
   ],
   "source": [
    "a=str(input(\"enter the name of the file with .txt extension: \"))\n",
    "\n",
    "\n",
    "file2 = open(a,'r')\n",
    "print(file2)\n",
    "line = file2.readline()\n",
    "print(line)\n",
    "#while(line != \"\"):\n",
    "for i in line:\n",
    "    print(line)\n",
    "    line = file2.readline()\n",
    "\n",
    "file2.close()\n",
    "\n"
   ]
  },
  {
   "cell_type": "code",
   "execution_count": 16,
   "metadata": {},
   "outputs": [],
   "source": [
    "with open(\"givado.txt\") as f:\n",
    "    with open(\"out.txt\",\"w\") as f1:\n",
    "        for line in f:\n",
    "            f1.write(line)\n",
    "\n",
    "print(\"arquivo out criado! \")\n",
    "\n",
    "            "
   ]
  },
  {
   "cell_type": "code",
   "execution_count": 29,
   "metadata": {},
   "outputs": [
    {
     "name": "stdout",
     "output_type": "stream",
     "text": [
      " occurrences of blank spaces: \n",
      "enter file name: shakespeare.txt\n",
      "4040422\n"
     ]
    }
   ],
   "source": [
    "from timeit import Timer\n",
    "\n",
    "def blank_spaces():\n",
    "\n",
    "    fname = input(\"enter file name: \")\n",
    "    k = 0\n",
    "\n",
    "    with open(fname, 'r') as f:\n",
    "        for line in f:\n",
    "            words = line.split()\n",
    "            for i in words:\n",
    "                for letter in i:\n",
    "                    if(letter.isspace):\n",
    "                        k=k+1\n",
    "    return k\n",
    "\n",
    "\n",
    "print(\" occurrences of blank spaces: \")\n",
    "#total_time= Timer(blank_spaces())\n",
    "print(str(blank_spaces())) \n",
    "    "
   ]
  },
  {
   "cell_type": "code",
   "execution_count": 32,
   "metadata": {},
   "outputs": [
    {
     "name": "stdout",
     "output_type": "stream",
     "text": [
      "Enter file name: names.txt\n",
      "Givado\n",
      "\n",
      "Francisco\n",
      "\n",
      "Silva \n",
      "\n",
      "Vivald\n",
      "\n",
      "Descartes\n",
      "\n",
      "Galileu\n",
      "\n"
     ]
    }
   ],
   "source": [
    "fname = input(\"Enter file name: \")\n",
    "\n",
    "with open(fname,'r') as f:\n",
    "    for line in f:\n",
    "        l=line.title()\n",
    "        print(l)\n"
   ]
  },
  {
   "cell_type": "code",
   "execution_count": 40,
   "metadata": {},
   "outputs": [
    {
     "name": "stdout",
     "output_type": "stream",
     "text": [
      "Enter lenght of rectangle: 10\n",
      "Enter breadth of rectangle: 20\n",
      "Area of rectangle:  200\n",
      "Lenght =  20\n",
      "Breadth =  10\n",
      "\n"
     ]
    }
   ],
   "source": [
    "class rectangle():\n",
    "    \n",
    "    def __init__(self, breadth, lenght):#self é o construtor, o objeto tipo rectangle\n",
    "        self.breadth = breadth\n",
    "        self.lenght = lenght\n",
    "        #print(self, breadth, lenght)\n",
    "    \n",
    "    def area(self):\n",
    "        #print(self)\n",
    "        return self.breadth * self.lenght\n",
    "    \n",
    "    def retorna_breadth(self):\n",
    "        return self.breadth\n",
    "    \n",
    "    def retorna_lenght(self):\n",
    "        return self.lenght\n",
    "\n",
    "a=int(input(\"Enter lenght of rectangle: \"))\n",
    "b=int(input(\"Enter breadth of rectangle: \"))\n",
    "\n",
    "obj=rectangle(a,b)\n",
    "\n",
    "print(\"Area of rectangle: \", obj.area())\n",
    "\n",
    "print(\"Lenght = \", obj.retorna_lenght())\n",
    "print(\"Breadth = \", obj.retorna_breadth())\n",
    "\n",
    "print()"
   ]
  },
  {
   "cell_type": "code",
   "execution_count": 41,
   "metadata": {},
   "outputs": [
    {
     "name": "stdout",
     "output_type": "stream",
     "text": [
      "0. Exit\n",
      "1. Add\n",
      "2. Delete\n",
      "3. Display\n",
      "Enter choice: 1\n",
      "Enter number to append: 123\n",
      "List:  [123]\n",
      "0. Exit\n",
      "1. Add\n",
      "2. Delete\n",
      "3. Display\n",
      "Enter choice: 1\n",
      "Enter number to append: 234\n",
      "List:  [123, 234]\n",
      "0. Exit\n",
      "1. Add\n",
      "2. Delete\n",
      "3. Display\n",
      "Enter choice: 1\n",
      "Enter number to append: 345\n",
      "List:  [123, 234, 345]\n",
      "0. Exit\n",
      "1. Add\n",
      "2. Delete\n",
      "3. Display\n",
      "Enter choice: 2\n",
      "enter number to remove:123\n",
      "List:  [234, 345]\n",
      "0. Exit\n",
      "1. Add\n",
      "2. Delete\n",
      "3. Display\n",
      "Enter choice: 3\n",
      "List:  [234, 345]\n",
      "0. Exit\n",
      "1. Add\n",
      "2. Delete\n",
      "3. Display\n",
      "Enter choice: 0\n",
      "Exiting!\n"
     ]
    }
   ],
   "source": [
    "class check():\n",
    "    def __init__(self):\n",
    "        self.n=[]\n",
    "    def add(self,a):\n",
    "        return self.n.append(a)\n",
    "    def remove(self,b):\n",
    "        self.n.remove(b)\n",
    "    def dis(self):\n",
    "        return(self.n)\n",
    "    \n",
    "obj=check()\n",
    "\n",
    "choice=1\n",
    "\n",
    "while choice!=0:\n",
    "    print(\"0. Exit\")\n",
    "    print(\"1. Add\")\n",
    "    print(\"2. Delete\")\n",
    "    print(\"3. Display\")\n",
    "    choice=int(input(\"Enter choice: \"))\n",
    "    \n",
    "    if choice ==1:\n",
    "        n=int(input(\"Enter number to append: \"))\n",
    "        obj.add(n)\n",
    "        print(\"List: \", obj.dis())\n",
    "    \n",
    "    elif choice==2:\n",
    "        n=int(input(\"enter number to remove:\"))\n",
    "        obj.remove(n)\n",
    "        print(\"List: \", obj.dis())\n",
    "        \n",
    "    elif choice==3:\n",
    "        print(\"List: \", obj.dis())        \n",
    "\n",
    "    elif choice==0:\n",
    "        print(\"Exiting!\")\n",
    "    else:\n",
    "        print(\"Invalid choice! try again.\")\n",
    "        "
   ]
  },
  {
   "cell_type": "code",
   "execution_count": 43,
   "metadata": {},
   "outputs": [
    {
     "name": "stdout",
     "output_type": "stream",
     "text": [
      "enter radius of circle: 23\n",
      "Area of cicle:  1661.9\n",
      "Perimeter of circle:  144.51\n"
     ]
    }
   ],
   "source": [
    "import math\n",
    "\n",
    "class circle():\n",
    "    def __init__(self,radius):\n",
    "        self.radius=radius\n",
    "    \n",
    "    def area(self):\n",
    "        return math.pi*(self.radius**2)\n",
    "    \n",
    "    def perimeter(self):\n",
    "        return 2*math.pi*self.radius\n",
    "\n",
    "r=int(input(\"enter radius of circle: \"))\n",
    "\n",
    "obj = circle(r)\n",
    "\n",
    "print(\"Area of cicle: \", round(obj.area(),2))\n",
    "print(\"Perimeter of circle: \", round(obj.perimeter(),2))\n",
    "\n",
    "    "
   ]
  },
  {
   "cell_type": "code",
   "execution_count": 45,
   "metadata": {},
   "outputs": [
    {
     "name": "stdout",
     "output_type": "stream",
     "text": [
      "Enter first number: 2\n",
      "Enter second number: 3\n",
      "0. Exit\n",
      "1. Add\n",
      "2. Subtraction\n",
      "3. multiplication\n",
      "4. Division\n",
      "Enter choice: 1\n",
      "Result:  5\n",
      "0. Exit\n",
      "1. Add\n",
      "2. Subtraction\n",
      "3. multiplication\n",
      "4. Division\n",
      "Enter choice: 0\n",
      "Exiting! \n",
      "\n"
     ]
    }
   ],
   "source": [
    "class cal():\n",
    "    \n",
    "    def __init__(self,a,b):\n",
    "        self.a=a\n",
    "        self.b=b\n",
    "        \n",
    "    def add(self):\n",
    "        return self.a+self.b\n",
    "    \n",
    "    def mul(self):\n",
    "        return self.a*self.b\n",
    "    \n",
    "    def div(self):\n",
    "        return self.a/self.b\n",
    "    \n",
    "    def sub(self):\n",
    "        return self.a-self.b\n",
    "\n",
    "a=int(input(\"Enter first number: \"))\n",
    "\n",
    "b=int(input(\"Enter second number: \"))\n",
    "\n",
    "obj= cal(a,b)\n",
    "\n",
    "choice=1\n",
    "\n",
    "while choice!=0:\n",
    "    \n",
    "    print(\"0. Exit\")\n",
    "    print(\"1. Add\")\n",
    "    print(\"2. Subtraction\")\n",
    "    print(\"3. multiplication\")\n",
    "    print(\"4. Division\")\n",
    "    choice=int(input(\"Enter choice: \"))\n",
    "    \n",
    "    if choice==1:\n",
    "        print(\"Result: \", obj.add())\n",
    "        \n",
    "    elif choice==2:\n",
    "        print(\"Result: \", obj.sub())\n",
    "        \n",
    "    elif choice==3:\n",
    "        print(\"Result: \", obj.mul())\n",
    "\n",
    "    elif choice==4:\n",
    "        print(\"Result: \", round(obj.div(),2))#round aredonda, o segundo argumento é a quantidade de casas.\n",
    "    \n",
    "    elif choice==0:\n",
    "        print(\"Exiting! \")\n",
    "    \n",
    "    else:\n",
    "        print(\"Invalid choice!!\")\n",
    "\n",
    "print()"
   ]
  },
  {
   "cell_type": "code",
   "execution_count": 47,
   "metadata": {},
   "outputs": [
    {
     "name": "stdout",
     "output_type": "stream",
     "text": [
      "Enter string: teste ello world\n",
      "String is: \n",
      "teste ello world\n"
     ]
    }
   ],
   "source": [
    "class print1():\n",
    "    def __init__(self):\n",
    "        self.string=\"\"\n",
    "        \n",
    "    def get(self):\n",
    "        self.string=input(\"Enter string: \")# self.string recebe a frase\n",
    "        \n",
    "    def put(self):\n",
    "        print(\"String is: \")\n",
    "        print(self.string) # metodo put printa a frase dentro de self.string\n",
    "\n",
    "obj=print1()\n",
    "\n",
    "obj.get()\n",
    "\n",
    "obj.put()\n"
   ]
  },
  {
   "cell_type": "code",
   "execution_count": 48,
   "metadata": {},
   "outputs": [
    {
     "name": "stdout",
     "output_type": "stream",
     "text": [
      "Enter the lower range: 5\n",
      "Enter the upper range: 10\n",
      "[(5, 25), (6, 36), (7, 49), (8, 64), (9, 81), (10, 100)]\n"
     ]
    }
   ],
   "source": [
    "l_range=int(input(\"Enter the lower range: \"))\n",
    "u_range=int(input(\"Enter the upper range: \"))\n",
    "\n",
    "a=[(x,x**2) for x in range(l_range, u_range +1)]\n",
    "\n",
    "print(a)\n",
    "\n"
   ]
  },
  {
   "cell_type": "code",
   "execution_count": null,
   "metadata": {},
   "outputs": [],
   "source": [
    "def last(n):\n",
    "    return n[-1]\n",
    "\n",
    "def sort(tuples):\n",
    "    return sorted(tuples, key=last)\n",
    "\n",
    "a=input(\"Enter a list of tuples: \")\n",
    "\n",
    "print(\"Sorted: \")\n",
    "print(sort(a))\n"
   ]
  },
  {
   "cell_type": "code",
   "execution_count": null,
   "metadata": {},
   "outputs": [],
   "source": []
  },
  {
   "cell_type": "code",
   "execution_count": null,
   "metadata": {},
   "outputs": [],
   "source": []
  }
 ],
 "metadata": {
  "kernelspec": {
   "display_name": "Python 3",
   "language": "python",
   "name": "python3"
  },
  "language_info": {
   "codemirror_mode": {
    "name": "ipython",
    "version": 3
   },
   "file_extension": ".py",
   "mimetype": "text/x-python",
   "name": "python",
   "nbconvert_exporter": "python",
   "pygments_lexer": "ipython3",
   "version": "3.6.5"
  }
 },
 "nbformat": 4,
 "nbformat_minor": 2
}
