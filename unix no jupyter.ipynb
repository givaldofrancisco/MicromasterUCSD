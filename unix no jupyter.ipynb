{
 "cells": [
  {
   "cell_type": "markdown",
   "metadata": {},
   "source": [
    "# UNIX comand for Data scientists\n",
    "\n",
    "## Declare file names "
   ]
  },
  {
   "cell_type": "code",
   "execution_count": 1,
   "metadata": {},
   "outputs": [
    {
     "name": "stderr",
     "output_type": "stream",
     "text": [
      "'ls' nÆo ‚ reconhecido como um comando interno\n",
      "ou externo, um programa oper vel ou um arquivo em lotes.\n"
     ]
    }
   ],
   "source": [
    "!ls ./unix"
   ]
  },
  {
   "cell_type": "code",
   "execution_count": 2,
   "metadata": {},
   "outputs": [
    {
     "name": "stdout",
     "output_type": "stream",
     "text": [
      " O volume na unidade C ‚ OS\n",
      " O N£mero de S‚rie do Volume ‚ 24A3-9A8E\n",
      "\n",
      " Pasta de C:\\Users\\gival\n",
      "\n",
      "22/09/2018  21:04    <DIR>          .\n",
      "22/09/2018  21:04    <DIR>          ..\n",
      "18/09/2018  00:23    <DIR>          .anaconda\n",
      "21/09/2018  23:28               704 .bash_history\n",
      "18/09/2018  11:39    <DIR>          .conda\n",
      "18/09/2018  00:23                43 .condarc\n",
      "13/09/2018  22:21               112 .gitconfig\n",
      "23/07/2018  20:16    <DIR>          .idlerc\n",
      "22/09/2018  21:02    <DIR>          .ipynb_checkpoints\n",
      "22/09/2018  18:59    <DIR>          .ipython\n",
      "22/09/2018  20:20    <DIR>          .matplotlib\n",
      "11/08/2018  22:44    <DIR>          .nbi\n",
      "21/09/2018  15:58    <DIR>          .oracle_jre_usage\n",
      "17/09/2018  23:16    <DIR>          .pylint.d\n",
      "18/09/2018  10:36    <DIR>          .swt\n",
      "22/09/2018  21:03    <DIR>          .VirtualBox\n",
      "24/07/2018  23:33    <DIR>          .vscode\n",
      "21/09/2018  16:14            90.315 2018-09-21-19-14-03.021-VirtualBox.exe-2584.log\n",
      "14/08/2018  17:42    <DIR>          3D Objects\n",
      "18/09/2018  00:20    <DIR>          Anaconda3\n",
      "21/09/2018  15:58    <DIR>          Application Data\n",
      "18/09/2018  11:39            90.375 beautifulsoup4-4.6.3-py3-none-any.whl\n",
      "18/09/2018  11:40           147.251 certifi-2018.8.24-py2.py3-none-any.whl\n",
      "18/09/2018  11:40           133.356 chardet-3.0.4-py2.py3-none-any.whl\n",
      "14/08/2018  17:42    <DIR>          Contacts\n",
      "22/09/2018  11:02    <DIR>          Desktop\n",
      "18/09/2018  18:07    <DIR>          Documents\n",
      "22/09/2018  21:08    <DIR>          Downloads\n",
      "04/08/2018  08:12    <DIR>          Dropbox\n",
      "14/08/2018  17:42    <DIR>          Favorites\n",
      "13/09/2018  22:24    <DIR>          git-course\n",
      "18/09/2018  11:40            58.213 idna-2.7-py2.py3-none-any.whl\n",
      "22/09/2018  20:26            20.887 intro notebook.ipynb\n",
      "14/08/2018  17:42    <DIR>          Links\n",
      "14/08/2018  17:42    <DIR>          Music\n",
      "22/09/2018  20:39            18.518 notebook.tex\n",
      "18/09/2018  10:56         9.922.236 numpy-1.15.1-cp37-none-win32.whl\n",
      "20/09/2018  22:50    <DIR>          OneDrive\n",
      "22/09/2018  20:39            12.843 output_10_1.png\n",
      "15/09/2018  22:47    <DIR>          Pictures\n",
      "18/09/2018  10:56         1.426.104 Pillow-5.2.0-cp37-cp37m-win32.whl\n",
      "18/09/2018  11:40            91.979 requests-2.19.1-py2.py3-none-any.whl\n",
      "14/08/2018  17:42    <DIR>          Saved Games\n",
      "20/09/2018  11:27    <DIR>          Searches\n",
      "18/09/2018  12:37    <DIR>          source\n",
      "20/09/2018  08:34    <DIR>          teste\n",
      "22/09/2018  21:04             1.065 Untitled.ipynb\n",
      "18/09/2018  11:40           133.303 urllib3-1.23-py2.py3-none-any.whl\n",
      "14/08/2018  17:42    <DIR>          Videos\n",
      "21/09/2018  16:20    <DIR>          VirtualBox VMs\n",
      "              16 arquivo(s)     12.147.304 bytes\n",
      "              34 pasta(s)   39.481.135.104 bytes dispon¡veis\n"
     ]
    }
   ],
   "source": [
    "ls"
   ]
  },
  {
   "cell_type": "code",
   "execution_count": 3,
   "metadata": {},
   "outputs": [
    {
     "name": "stdout",
     "output_type": "stream",
     "text": [
      "C:\\Users\\gival\\Downloads\n"
     ]
    }
   ],
   "source": [
    "cd Downloads\n"
   ]
  },
  {
   "cell_type": "code",
   "execution_count": 4,
   "metadata": {},
   "outputs": [
    {
     "name": "stdout",
     "output_type": "stream",
     "text": [
      " O volume na unidade C ‚ OS\n",
      " O N£mero de S‚rie do Volume ‚ 24A3-9A8E\n",
      "\n",
      " Pasta de C:\\Users\\gival\\Downloads\n",
      "\n",
      "22/09/2018  21:08    <DIR>          .\n",
      "22/09/2018  21:08    <DIR>          ..\n",
      "21/08/2018  13:22    <DIR>          C27EB4BA.DropboxOEM_xbfy0k16fey96!App\n",
      "19/09/2018  20:13         6.962.564 certificado gradua‡Æo-merged.pdf.crdownload\n",
      "22/09/2018  09:55           128.512 Chamada Petrogal_final_06_10_16 (1).doc\n",
      "22/09/2018  21:08            17.007 Data_Science_2017_W3_L1_V5_1-en.srt\n",
      "22/09/2018  21:08             9.031 Data_Science_2017_W3_L1_V5_1-en.txt\n",
      "01/09/2018  17:30             8.429 Personal Statement.docx\n",
      "19/09/2018  13:40       113.983.488 VirtualBox-5.2.18-124319-Win.exe\n",
      "20/09/2018  22:30         2.040.720 WhatsApp Video 2018-09-13 at 23.34.17.3gpp\n",
      "21/09/2018  16:01        83.879.240 XMind-ZEN-Update3-for-Windows-64bit.exe\n",
      "               8 arquivo(s)    207.028.991 bytes\n",
      "               3 pasta(s)   39.481.892.864 bytes dispon¡veis\n"
     ]
    }
   ],
   "source": [
    "ls"
   ]
  },
  {
   "cell_type": "code",
   "execution_count": 5,
   "metadata": {},
   "outputs": [
    {
     "data": {
      "text/plain": [
       "'C:\\\\Users\\\\gival\\\\Downloads'"
      ]
     },
     "execution_count": 5,
     "metadata": {},
     "output_type": "execute_result"
    }
   ],
   "source": [
    "pwd"
   ]
  },
  {
   "cell_type": "code",
   "execution_count": 6,
   "metadata": {},
   "outputs": [
    {
     "name": "stdout",
     "output_type": "stream",
     "text": [
      "C:\\Users\\gival\\Downloads\\Week-2-UNIXDataFiles\\Week-2-UNIXDataFiles\n"
     ]
    }
   ],
   "source": [
    "cd Week-2-UNIXDataFiles\\Week-2-UNIXDataFiles\n"
   ]
  },
  {
   "cell_type": "code",
   "execution_count": 7,
   "metadata": {},
   "outputs": [
    {
     "name": "stdout",
     "output_type": "stream",
     "text": [
      " O volume na unidade C ‚ OS\n",
      " O N£mero de S‚rie do Volume ‚ 24A3-9A8E\n",
      "\n",
      " Pasta de C:\\Users\\gival\\Downloads\\Week-2-UNIXDataFiles\\Week-2-UNIXDataFiles\n",
      "\n",
      "30/05/2017  15:55    <DIR>          .\n",
      "30/05/2017  15:55    <DIR>          ..\n",
      "29/05/2017  10:00             6.148 .DS_Store\n",
      "31/03/2017  01:08                64 fruits.txt\n",
      "25/04/2017  15:10                 0 Icon_\n",
      "10/04/2017  15:29         5.583.442 shakespeare.txt\n",
      "               4 arquivo(s)      5.589.654 bytes\n",
      "               2 pasta(s)   39.434.534.912 bytes dispon¡veis\n"
     ]
    }
   ],
   "source": [
    "ls"
   ]
  },
  {
   "cell_type": "code",
   "execution_count": 8,
   "metadata": {},
   "outputs": [
    {
     "ename": "SyntaxError",
     "evalue": "invalid syntax (<ipython-input-8-207b0fda772e>, line 1)",
     "output_type": "error",
     "traceback": [
      "\u001b[1;36m  File \u001b[1;32m\"<ipython-input-8-207b0fda772e>\"\u001b[1;36m, line \u001b[1;32m1\u001b[0m\n\u001b[1;33m    cat fruits.txt\u001b[0m\n\u001b[1;37m             ^\u001b[0m\n\u001b[1;31mSyntaxError\u001b[0m\u001b[1;31m:\u001b[0m invalid syntax\n"
     ]
    }
   ],
   "source": [
    "cat fruits.txt"
   ]
  },
  {
   "cell_type": "code",
   "execution_count": 9,
   "metadata": {},
   "outputs": [
    {
     "ename": "SyntaxError",
     "evalue": "invalid syntax (<ipython-input-9-207b0fda772e>, line 1)",
     "output_type": "error",
     "traceback": [
      "\u001b[1;36m  File \u001b[1;32m\"<ipython-input-9-207b0fda772e>\"\u001b[1;36m, line \u001b[1;32m1\u001b[0m\n\u001b[1;33m    cat fruits.txt\u001b[0m\n\u001b[1;37m             ^\u001b[0m\n\u001b[1;31mSyntaxError\u001b[0m\u001b[1;31m:\u001b[0m invalid syntax\n"
     ]
    }
   ],
   "source": [
    "cat fruits.txt\n"
   ]
  },
  {
   "cell_type": "code",
   "execution_count": 10,
   "metadata": {},
   "outputs": [
    {
     "ename": "SyntaxError",
     "evalue": "invalid syntax (<ipython-input-10-3cdafbf0340e>, line 1)",
     "output_type": "error",
     "traceback": [
      "\u001b[1;36m  File \u001b[1;32m\"<ipython-input-10-3cdafbf0340e>\"\u001b[1;36m, line \u001b[1;32m1\u001b[0m\n\u001b[1;33m    head fruits.txt\u001b[0m\n\u001b[1;37m              ^\u001b[0m\n\u001b[1;31mSyntaxError\u001b[0m\u001b[1;31m:\u001b[0m invalid syntax\n"
     ]
    }
   ],
   "source": [
    "head fruits.txt\n"
   ]
  },
  {
   "cell_type": "code",
   "execution_count": 11,
   "metadata": {},
   "outputs": [
    {
     "ename": "SyntaxError",
     "evalue": "invalid syntax (<ipython-input-11-d99234be380c>, line 1)",
     "output_type": "error",
     "traceback": [
      "\u001b[1;36m  File \u001b[1;32m\"<ipython-input-11-d99234be380c>\"\u001b[1;36m, line \u001b[1;32m1\u001b[0m\n\u001b[1;33m    head -n 3 fruit.txt\u001b[0m\n\u001b[1;37m            ^\u001b[0m\n\u001b[1;31mSyntaxError\u001b[0m\u001b[1;31m:\u001b[0m invalid syntax\n"
     ]
    }
   ],
   "source": [
    "head -n 3 fruit.txt"
   ]
  },
  {
   "cell_type": "code",
   "execution_count": 13,
   "metadata": {},
   "outputs": [],
   "source": [
    "filename = 'fruits.txt'"
   ]
  },
  {
   "cell_type": "code",
   "execution_count": 14,
   "metadata": {},
   "outputs": [
    {
     "name": "stdout",
     "output_type": "stream",
     "text": [
      "fruits.txt\n"
     ]
    }
   ],
   "source": [
    "print(filename)"
   ]
  },
  {
   "cell_type": "code",
   "execution_count": 15,
   "metadata": {},
   "outputs": [
    {
     "name": "stdout",
     "output_type": "stream",
     "text": [
      "fruits.txt\n"
     ]
    }
   ],
   "source": [
    "!echo $filename"
   ]
  },
  {
   "cell_type": "code",
   "execution_count": 16,
   "metadata": {},
   "outputs": [
    {
     "name": "stderr",
     "output_type": "stream",
     "text": [
      "'head' nÆo ‚ reconhecido como um comando interno\n",
      "ou externo, um programa oper vel ou um arquivo em lotes.\n"
     ]
    }
   ],
   "source": [
    "!head -n 3 $filename"
   ]
  },
  {
   "cell_type": "code",
   "execution_count": 17,
   "metadata": {},
   "outputs": [
    {
     "name": "stderr",
     "output_type": "stream",
     "text": [
      "'head' nÆo ‚ reconhecido como um comando interno\n",
      "ou externo, um programa oper vel ou um arquivo em lotes.\n"
     ]
    }
   ],
   "source": [
    "!head -3 fruits.txt"
   ]
  },
  {
   "cell_type": "code",
   "execution_count": 18,
   "metadata": {},
   "outputs": [
    {
     "ename": "SyntaxError",
     "evalue": "invalid syntax (<ipython-input-18-d2dfc01e06ba>, line 1)",
     "output_type": "error",
     "traceback": [
      "\u001b[1;36m  File \u001b[1;32m\"<ipython-input-18-d2dfc01e06ba>\"\u001b[1;36m, line \u001b[1;32m1\u001b[0m\n\u001b[1;33m    head -n 3 $filename\u001b[0m\n\u001b[1;37m            ^\u001b[0m\n\u001b[1;31mSyntaxError\u001b[0m\u001b[1;31m:\u001b[0m invalid syntax\n"
     ]
    }
   ],
   "source": [
    "head -n 3 $filename"
   ]
  },
  {
   "cell_type": "code",
   "execution_count": 19,
   "metadata": {},
   "outputs": [
    {
     "ename": "SyntaxError",
     "evalue": "invalid syntax (<ipython-input-19-ddb62ec85c29>, line 1)",
     "output_type": "error",
     "traceback": [
      "\u001b[1;36m  File \u001b[1;32m\"<ipython-input-19-ddb62ec85c29>\"\u001b[1;36m, line \u001b[1;32m1\u001b[0m\n\u001b[1;33m    head -3 $filename\u001b[0m\n\u001b[1;37m            ^\u001b[0m\n\u001b[1;31mSyntaxError\u001b[0m\u001b[1;31m:\u001b[0m invalid syntax\n"
     ]
    }
   ],
   "source": [
    "head -3 $filename\n"
   ]
  },
  {
   "cell_type": "code",
   "execution_count": 20,
   "metadata": {},
   "outputs": [
    {
     "ename": "SyntaxError",
     "evalue": "invalid syntax (<ipython-input-20-93208ce3288f>, line 1)",
     "output_type": "error",
     "traceback": [
      "\u001b[1;36m  File \u001b[1;32m\"<ipython-input-20-93208ce3288f>\"\u001b[1;36m, line \u001b[1;32m1\u001b[0m\n\u001b[1;33m    head -3 filename\u001b[0m\n\u001b[1;37m                   ^\u001b[0m\n\u001b[1;31mSyntaxError\u001b[0m\u001b[1;31m:\u001b[0m invalid syntax\n"
     ]
    }
   ],
   "source": [
    "head -3 filename\n"
   ]
  },
  {
   "cell_type": "code",
   "execution_count": 21,
   "metadata": {},
   "outputs": [
    {
     "ename": "SyntaxError",
     "evalue": "invalid syntax (<ipython-input-21-2cf4fae5e09d>, line 1)",
     "output_type": "error",
     "traceback": [
      "\u001b[1;36m  File \u001b[1;32m\"<ipython-input-21-2cf4fae5e09d>\"\u001b[1;36m, line \u001b[1;32m1\u001b[0m\n\u001b[1;33m    head -3 fruits.txt\u001b[0m\n\u001b[1;37m                 ^\u001b[0m\n\u001b[1;31mSyntaxError\u001b[0m\u001b[1;31m:\u001b[0m invalid syntax\n"
     ]
    }
   ],
   "source": [
    "head -3 fruits.txt\n"
   ]
  },
  {
   "cell_type": "code",
   "execution_count": 22,
   "metadata": {},
   "outputs": [
    {
     "name": "stderr",
     "output_type": "stream",
     "text": [
      "'cat' nÆo ‚ reconhecido como um comando interno\n",
      "ou externo, um programa oper vel ou um arquivo em lotes.\n"
     ]
    }
   ],
   "source": [
    "!cat fruits.txt\n"
   ]
  },
  {
   "cell_type": "code",
   "execution_count": 23,
   "metadata": {},
   "outputs": [
    {
     "ename": "SyntaxError",
     "evalue": "invalid syntax (<ipython-input-23-207b0fda772e>, line 1)",
     "output_type": "error",
     "traceback": [
      "\u001b[1;36m  File \u001b[1;32m\"<ipython-input-23-207b0fda772e>\"\u001b[1;36m, line \u001b[1;32m1\u001b[0m\n\u001b[1;33m    cat fruits.txt\u001b[0m\n\u001b[1;37m             ^\u001b[0m\n\u001b[1;31mSyntaxError\u001b[0m\u001b[1;31m:\u001b[0m invalid syntax\n"
     ]
    }
   ],
   "source": [
    "cat fruits.txt\n"
   ]
  },
  {
   "cell_type": "code",
   "execution_count": 24,
   "metadata": {},
   "outputs": [
    {
     "ename": "SyntaxError",
     "evalue": "invalid syntax (<ipython-input-24-62f73432a809>, line 1)",
     "output_type": "error",
     "traceback": [
      "\u001b[1;36m  File \u001b[1;32m\"<ipython-input-24-62f73432a809>\"\u001b[1;36m, line \u001b[1;32m1\u001b[0m\n\u001b[1;33m    cat filename\u001b[0m\n\u001b[1;37m               ^\u001b[0m\n\u001b[1;31mSyntaxError\u001b[0m\u001b[1;31m:\u001b[0m invalid syntax\n"
     ]
    }
   ],
   "source": [
    "cat filename"
   ]
  },
  {
   "cell_type": "code",
   "execution_count": 25,
   "metadata": {},
   "outputs": [
    {
     "name": "stdout",
     "output_type": "stream",
     "text": [
      "fruits.txt\n"
     ]
    }
   ],
   "source": [
    "print(filename)"
   ]
  },
  {
   "cell_type": "code",
   "execution_count": 26,
   "metadata": {},
   "outputs": [
    {
     "ename": "SyntaxError",
     "evalue": "invalid syntax (<ipython-input-26-32917243942e>, line 1)",
     "output_type": "error",
     "traceback": [
      "\u001b[1;36m  File \u001b[1;32m\"<ipython-input-26-32917243942e>\"\u001b[1;36m, line \u001b[1;32m1\u001b[0m\n\u001b[1;33m    cat shakespeare.txt\u001b[0m\n\u001b[1;37m                  ^\u001b[0m\n\u001b[1;31mSyntaxError\u001b[0m\u001b[1;31m:\u001b[0m invalid syntax\n"
     ]
    }
   ],
   "source": [
    "cat shakespeare.txt\n"
   ]
  },
  {
   "cell_type": "code",
   "execution_count": 27,
   "metadata": {},
   "outputs": [
    {
     "ename": "SyntaxError",
     "evalue": "invalid syntax (<ipython-input-27-9beac8afa993>, line 1)",
     "output_type": "error",
     "traceback": [
      "\u001b[1;36m  File \u001b[1;32m\"<ipython-input-27-9beac8afa993>\"\u001b[1;36m, line \u001b[1;32m1\u001b[0m\n\u001b[1;33m    head -5 shakespeare.txt\u001b[0m\n\u001b[1;37m                      ^\u001b[0m\n\u001b[1;31mSyntaxError\u001b[0m\u001b[1;31m:\u001b[0m invalid syntax\n"
     ]
    }
   ],
   "source": [
    "head -5 shakespeare.txt"
   ]
  },
  {
   "cell_type": "code",
   "execution_count": 28,
   "metadata": {},
   "outputs": [
    {
     "name": "stdout",
     "output_type": "stream",
     "text": [
      " O volume na unidade C ‚ OS\n",
      " O N£mero de S‚rie do Volume ‚ 24A3-9A8E\n",
      "\n",
      " Pasta de C:\\Users\\gival\\Downloads\\Week-2-UNIXDataFiles\\Week-2-UNIXDataFiles\n",
      "\n"
     ]
    },
    {
     "name": "stderr",
     "output_type": "stream",
     "text": [
      "Arquivo nÆo encontrado\n"
     ]
    }
   ],
   "source": [
    "ls -l\n"
   ]
  },
  {
   "cell_type": "code",
   "execution_count": 29,
   "metadata": {},
   "outputs": [
    {
     "name": "stdout",
     "output_type": "stream",
     "text": [
      "C:\\Users\\gival\\Downloads\\Week-2-UNIXDataFiles\\Week-2-UNIXDataFiles\n"
     ]
    }
   ],
   "source": [
    "cd ./"
   ]
  },
  {
   "cell_type": "code",
   "execution_count": 30,
   "metadata": {},
   "outputs": [
    {
     "data": {
      "text/plain": [
       "'C:\\\\Users\\\\gival\\\\Downloads\\\\Week-2-UNIXDataFiles\\\\Week-2-UNIXDataFiles'"
      ]
     },
     "execution_count": 30,
     "metadata": {},
     "output_type": "execute_result"
    }
   ],
   "source": [
    "pwd"
   ]
  },
  {
   "cell_type": "code",
   "execution_count": 34,
   "metadata": {},
   "outputs": [
    {
     "ename": "SyntaxError",
     "evalue": "invalid syntax (<ipython-input-34-a92462c625f9>, line 1)",
     "output_type": "error",
     "traceback": [
      "\u001b[1;36m  File \u001b[1;32m\"<ipython-input-34-a92462c625f9>\"\u001b[1;36m, line \u001b[1;32m1\u001b[0m\n\u001b[1;33m    wc filename\u001b[0m\n\u001b[1;37m              ^\u001b[0m\n\u001b[1;31mSyntaxError\u001b[0m\u001b[1;31m:\u001b[0m invalid syntax\n"
     ]
    }
   ],
   "source": [
    "wc filename"
   ]
  },
  {
   "cell_type": "code",
   "execution_count": 35,
   "metadata": {},
   "outputs": [
    {
     "ename": "SyntaxError",
     "evalue": "invalid syntax (<ipython-input-35-6cb2ddf7dceb>, line 1)",
     "output_type": "error",
     "traceback": [
      "\u001b[1;36m  File \u001b[1;32m\"<ipython-input-35-6cb2ddf7dceb>\"\u001b[1;36m, line \u001b[1;32m1\u001b[0m\n\u001b[1;33m    wc fruits.txt\u001b[0m\n\u001b[1;37m            ^\u001b[0m\n\u001b[1;31mSyntaxError\u001b[0m\u001b[1;31m:\u001b[0m invalid syntax\n"
     ]
    }
   ],
   "source": [
    "wc fruits.txt\n"
   ]
  },
  {
   "cell_type": "code",
   "execution_count": 40,
   "metadata": {},
   "outputs": [
    {
     "ename": "SyntaxError",
     "evalue": "invalid syntax (<ipython-input-40-85889dfced86>, line 1)",
     "output_type": "error",
     "traceback": [
      "\u001b[1;36m  File \u001b[1;32m\"<ipython-input-40-85889dfced86>\"\u001b[1;36m, line \u001b[1;32m1\u001b[0m\n\u001b[1;33m    cd Users/gival/AppData/Roaming/Microsoft/Windows/Start Menu/Programs/Python 3.7\u001b[0m\n\u001b[1;37m           ^\u001b[0m\n\u001b[1;31mSyntaxError\u001b[0m\u001b[1;31m:\u001b[0m invalid syntax\n"
     ]
    }
   ],
   "source": [
    "cd Users/gival/AppData/Roaming/Microsoft/Windows/Start Menu/Programs/Python 3.7\n",
    "    "
   ]
  },
  {
   "cell_type": "code",
   "execution_count": 41,
   "metadata": {},
   "outputs": [
    {
     "name": "stdout",
     "output_type": "stream",
     "text": [
      "C:\\Users\\gival\\Downloads\\Week-2-UNIXDataFiles\n"
     ]
    }
   ],
   "source": [
    "cd ../"
   ]
  },
  {
   "cell_type": "code",
   "execution_count": 42,
   "metadata": {},
   "outputs": [
    {
     "name": "stdout",
     "output_type": "stream",
     "text": [
      "C:\\Users\\gival\\Downloads\n"
     ]
    }
   ],
   "source": [
    "cd ../\n"
   ]
  },
  {
   "cell_type": "code",
   "execution_count": 43,
   "metadata": {},
   "outputs": [
    {
     "name": "stdout",
     "output_type": "stream",
     "text": [
      "C:\\Users\\gival\n"
     ]
    }
   ],
   "source": [
    "cd ../"
   ]
  },
  {
   "cell_type": "code",
   "execution_count": 44,
   "metadata": {},
   "outputs": [
    {
     "name": "stdout",
     "output_type": "stream",
     "text": [
      "C:\\Users\\gival\\AppData\\Roaming\\Microsoft\\Windows\\Start Menu\\Programs\\Python 3.7\n"
     ]
    }
   ],
   "source": [
    "cd AppData/Roaming/Microsoft/Windows/Start Menu/Programs/Python 3.7"
   ]
  },
  {
   "cell_type": "code",
   "execution_count": 45,
   "metadata": {},
   "outputs": [
    {
     "data": {
      "text/plain": [
       "'C:\\\\Users\\\\gival\\\\AppData\\\\Roaming\\\\Microsoft\\\\Windows\\\\Start Menu\\\\Programs\\\\Python 3.7'"
      ]
     },
     "execution_count": 45,
     "metadata": {},
     "output_type": "execute_result"
    }
   ],
   "source": [
    "pwd"
   ]
  },
  {
   "cell_type": "code",
   "execution_count": 46,
   "metadata": {},
   "outputs": [
    {
     "name": "stdout",
     "output_type": "stream",
     "text": [
      " O volume na unidade C ‚ OS\n",
      " O N£mero de S‚rie do Volume ‚ 24A3-9A8E\n",
      "\n",
      " Pasta de C:\\Users\\gival\\AppData\\Roaming\\Microsoft\\Windows\\Start Menu\\Programs\\Python 3.7\n",
      "\n",
      "21/07/2018  09:32    <DIR>          .\n",
      "21/07/2018  09:32    <DIR>          ..\n",
      "21/07/2018  09:32             2.691 IDLE (Python 3.7 32-bit).lnk\n",
      "21/07/2018  09:32             1.496 Python 3.7 (32-bit).lnk\n",
      "21/07/2018  09:32             1.131 Python 3.7 Manuals (32-bit).lnk\n",
      "21/07/2018  09:32             2.518 Python 3.7 Module Docs (32-bit).lnk\n",
      "               4 arquivo(s)          7.836 bytes\n",
      "               2 pasta(s)   39.184.490.496 bytes dispon¡veis\n"
     ]
    }
   ],
   "source": [
    "ls"
   ]
  },
  {
   "cell_type": "code",
   "execution_count": 47,
   "metadata": {},
   "outputs": [
    {
     "name": "stdout",
     "output_type": "stream",
     "text": [
      " O volume na unidade C ‚ OS\n",
      " O N£mero de S‚rie do Volume ‚ 24A3-9A8E\n",
      "\n",
      " Pasta de C:\\Users\\gival\\AppData\\Roaming\\Microsoft\\Windows\\Start Menu\\Programs\\Python 3.7\n",
      "\n"
     ]
    },
    {
     "name": "stderr",
     "output_type": "stream",
     "text": [
      "Arquivo nÆo encontrado\n"
     ]
    }
   ],
   "source": [
    "ls -la\n"
   ]
  },
  {
   "cell_type": "code",
   "execution_count": 48,
   "metadata": {},
   "outputs": [
    {
     "name": "stdout",
     "output_type": "stream",
     "text": [
      " O volume na unidade C ‚ OS\n",
      " O N£mero de S‚rie do Volume ‚ 24A3-9A8E\n",
      "\n",
      " Pasta de C:\\Users\\gival\\AppData\\Roaming\\Microsoft\\Windows\\Start Menu\\Programs\\Python 3.7\n",
      "\n"
     ]
    },
    {
     "name": "stderr",
     "output_type": "stream",
     "text": [
      "Arquivo nÆo encontrado\n"
     ]
    }
   ],
   "source": [
    "ls -l"
   ]
  },
  {
   "cell_type": "code",
   "execution_count": 49,
   "metadata": {},
   "outputs": [
    {
     "name": "stdout",
     "output_type": "stream",
     "text": [
      " O volume na unidade C ‚ OS\n",
      " O N£mero de S‚rie do Volume ‚ 24A3-9A8E\n",
      "\n",
      " Pasta de C:\\Users\\gival\\AppData\\Roaming\\Microsoft\\Windows\\Start Menu\\Programs\\Python 3.7\n",
      "\n",
      "22/09/2018  22:29    <DIR>          .\n",
      "22/09/2018  22:29    <DIR>          ..\n",
      "31/03/2017  01:08                64 fruits.txt\n",
      "21/07/2018  09:32             2.691 IDLE (Python 3.7 32-bit).lnk\n",
      "21/07/2018  09:32             1.496 Python 3.7 (32-bit).lnk\n",
      "21/07/2018  09:32             1.131 Python 3.7 Manuals (32-bit).lnk\n",
      "21/07/2018  09:32             2.518 Python 3.7 Module Docs (32-bit).lnk\n",
      "10/04/2017  15:29         5.583.442 shakespeare.txt\n",
      "               6 arquivo(s)      5.591.342 bytes\n",
      "               2 pasta(s)   39.179.419.648 bytes dispon¡veis\n"
     ]
    }
   ],
   "source": [
    "%ls"
   ]
  },
  {
   "cell_type": "code",
   "execution_count": 50,
   "metadata": {},
   "outputs": [
    {
     "name": "stdout",
     "output_type": "stream",
     "text": [
      " O volume na unidade C ‚ OS\n",
      " O N£mero de S‚rie do Volume ‚ 24A3-9A8E\n",
      "\n",
      " Pasta de C:\\Users\\gival\\AppData\\Roaming\\Microsoft\\Windows\\Start Menu\\Programs\\Python 3.7\n",
      "\n"
     ]
    },
    {
     "name": "stderr",
     "output_type": "stream",
     "text": [
      "Arquivo nÆo encontrado\n"
     ]
    }
   ],
   "source": [
    "%ls -l"
   ]
  },
  {
   "cell_type": "code",
   "execution_count": 51,
   "metadata": {},
   "outputs": [
    {
     "name": "stderr",
     "output_type": "stream",
     "text": [
      "'cat' nÆo ‚ reconhecido como um comando interno\n",
      "ou externo, um programa oper vel ou um arquivo em lotes.\n"
     ]
    }
   ],
   "source": [
    "!cat fruits.txt\n"
   ]
  },
  {
   "cell_type": "code",
   "execution_count": 52,
   "metadata": {},
   "outputs": [
    {
     "ename": "SyntaxError",
     "evalue": "invalid syntax (<ipython-input-52-207b0fda772e>, line 1)",
     "output_type": "error",
     "traceback": [
      "\u001b[1;36m  File \u001b[1;32m\"<ipython-input-52-207b0fda772e>\"\u001b[1;36m, line \u001b[1;32m1\u001b[0m\n\u001b[1;33m    cat fruits.txt\u001b[0m\n\u001b[1;37m             ^\u001b[0m\n\u001b[1;31mSyntaxError\u001b[0m\u001b[1;31m:\u001b[0m invalid syntax\n"
     ]
    }
   ],
   "source": [
    "cat fruits.txt\n"
   ]
  },
  {
   "cell_type": "code",
   "execution_count": 1,
   "metadata": {},
   "outputs": [
    {
     "data": {
      "text/plain": [
       "'C:\\\\Users\\\\gival'"
      ]
     },
     "execution_count": 1,
     "metadata": {},
     "output_type": "execute_result"
    }
   ],
   "source": [
    "pwd\n"
   ]
  },
  {
   "cell_type": "code",
   "execution_count": 2,
   "metadata": {},
   "outputs": [
    {
     "name": "stdout",
     "output_type": "stream",
     "text": [
      "C:\\Users\\gival\\AppData\\Roaming\\Microsoft\\Windows\\Start Menu\\Programs\n"
     ]
    }
   ],
   "source": [
    "cd AppData/Roaming/Microsoft/Windows/Start Menu/Programs/\n"
   ]
  },
  {
   "cell_type": "code",
   "execution_count": 4,
   "metadata": {},
   "outputs": [
    {
     "name": "stdout",
     "output_type": "stream",
     "text": [
      "C:\\Users\\gival\\AppData\\Roaming\\Microsoft\\Windows\\Start Menu\\Programs\\Anaconda3 (64-bit)\n"
     ]
    }
   ],
   "source": [
    "cd  Anaconda3 (64-bit)\n"
   ]
  },
  {
   "cell_type": "code",
   "execution_count": 5,
   "metadata": {},
   "outputs": [
    {
     "data": {
      "text/plain": [
       "'C:\\\\Users\\\\gival\\\\AppData\\\\Roaming\\\\Microsoft\\\\Windows\\\\Start Menu\\\\Programs\\\\Anaconda3 (64-bit)'"
      ]
     },
     "execution_count": 5,
     "metadata": {},
     "output_type": "execute_result"
    }
   ],
   "source": [
    "pwd"
   ]
  },
  {
   "cell_type": "code",
   "execution_count": 6,
   "metadata": {},
   "outputs": [
    {
     "name": "stdout",
     "output_type": "stream",
     "text": [
      " O volume na unidade C ‚ OS\n",
      " O N£mero de S‚rie do Volume ‚ 24A3-9A8E\n",
      "\n",
      " Pasta de C:\\Users\\gival\\AppData\\Roaming\\Microsoft\\Windows\\Start Menu\\Programs\\Anaconda3 (64-bit)\n",
      "\n",
      "22/09/2018  22:31    <DIR>          .\n",
      "22/09/2018  22:31    <DIR>          ..\n",
      "18/09/2018  00:19             2.187 Anaconda Navigator.lnk\n",
      "18/09/2018  00:19             2.815 Anaconda Prompt.lnk\n",
      "31/03/2017  01:08                64 fruits.txt\n",
      "18/09/2018  00:19             2.150 Jupyter Notebook.lnk\n",
      "18/09/2018  00:19             2.152 Reset Spyder Settings.lnk\n",
      "10/04/2017  15:29         5.583.442 shakespeare.txt\n",
      "18/09/2018  00:19             2.151 Spyder.lnk\n",
      "               7 arquivo(s)      5.594.961 bytes\n",
      "               2 pasta(s)   39.173.025.792 bytes dispon¡veis\n"
     ]
    }
   ],
   "source": [
    "ls\n"
   ]
  },
  {
   "cell_type": "code",
   "execution_count": 8,
   "metadata": {},
   "outputs": [
    {
     "ename": "SyntaxError",
     "evalue": "invalid syntax (<ipython-input-8-207b0fda772e>, line 1)",
     "output_type": "error",
     "traceback": [
      "\u001b[1;36m  File \u001b[1;32m\"<ipython-input-8-207b0fda772e>\"\u001b[1;36m, line \u001b[1;32m1\u001b[0m\n\u001b[1;33m    cat fruits.txt\u001b[0m\n\u001b[1;37m             ^\u001b[0m\n\u001b[1;31mSyntaxError\u001b[0m\u001b[1;31m:\u001b[0m invalid syntax\n"
     ]
    }
   ],
   "source": [
    "cat fruits.txt"
   ]
  },
  {
   "cell_type": "code",
   "execution_count": 9,
   "metadata": {},
   "outputs": [
    {
     "name": "stderr",
     "output_type": "stream",
     "text": [
      "'head' nÆo ‚ reconhecido como um comando interno\n",
      "ou externo, um programa oper vel ou um arquivo em lotes.\n"
     ]
    }
   ],
   "source": [
    "!head -n 3 fruits.txt"
   ]
  },
  {
   "cell_type": "code",
   "execution_count": null,
   "metadata": {},
   "outputs": [],
   "source": []
  }
 ],
 "metadata": {
  "kernelspec": {
   "display_name": "Python 3",
   "language": "python",
   "name": "python3"
  },
  "language_info": {
   "codemirror_mode": {
    "name": "ipython",
    "version": 3
   },
   "file_extension": ".py",
   "mimetype": "text/x-python",
   "name": "python",
   "nbconvert_exporter": "python",
   "pygments_lexer": "ipython3",
   "version": "3.6.5"
  }
 },
 "nbformat": 4,
 "nbformat_minor": 2
}
