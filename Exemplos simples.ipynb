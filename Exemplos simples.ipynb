{
 "cells": [
  {
   "cell_type": "code",
   "execution_count": 15,
   "metadata": {},
   "outputs": [
    {
     "name": "stdout",
     "output_type": "stream",
     "text": [
      "hello world\n",
      "hello\n",
      "transforma a palavra em lowercase\n",
      "HELLO\n",
      "hello\n"
     ]
    }
   ],
   "source": [
    "print (\"hello world\")\n",
    "\n",
    "x=\"HELLO\"\n",
    "\n",
    "print(x.lower())\n",
    "\n",
    "print(\"transforma a palavra em lowercase\")\n",
    "\n",
    "print(x)\n",
    "\n",
    "x=x.lower() # a variavel x recebe o x alterado e passar a ter a palavra hello minusculo\n",
    "\n",
    "print(x)# imprime o X alterado\n"
   ]
  },
  {
   "cell_type": "code",
   "execution_count": 16,
   "metadata": {},
   "outputs": [
    {
     "name": "stdout",
     "output_type": "stream",
     "text": [
      "0\n",
      "1\n",
      "2\n",
      "3\n",
      "4\n",
      "5\n",
      "6\n",
      "7\n",
      "8\n",
      "9\n",
      "2\n",
      "4\n",
      "5\n",
      "10\n",
      "8\n",
      "16\n",
      "11\n",
      "22\n"
     ]
    },
    {
     "data": {
      "text/plain": [
       "'\\ntoda informações contida entre 3 aspas SIMPLES\\né considerada como caracteres que devem ser ignorados.\\n'"
      ]
     },
     "execution_count": 16,
     "metadata": {},
     "output_type": "execute_result"
    }
   ],
   "source": [
    "\n",
    "for i in range (0,10):\n",
    "\tprint(i)\n",
    "\n",
    "\n",
    "for i in range (2,12,3):# começa com 2, vai ate 12 em intervalos de 3\n",
    "\tprint(i)\n",
    "\tprint(i*2)\n",
    "\n",
    "'''\n",
    "toda informações contida entre 3 aspas SIMPLES\n",
    "é considerada como caracteres que devem ser ignorados.\n",
    "'''"
   ]
  },
  {
   "cell_type": "code",
   "execution_count": 17,
   "metadata": {},
   "outputs": [
    {
     "name": "stdout",
     "output_type": "stream",
     "text": [
      "Numeros pares 0\n",
      "Numeros pares 2\n",
      "Numeros pares 4\n",
      "Numeros pares 6\n",
      "Numeros pares 8\n",
      "7\n",
      "Hi THERE\n"
     ]
    }
   ],
   "source": [
    "# para saber se é par\n",
    "for i in range (0,10):\n",
    "\tif i % 2 == 0:\n",
    "\t\tprint(\"Numeros pares \"+ str(i))\n",
    "\n",
    "def my_abs(val):\n",
    "\tif val < 0:\n",
    "\t\treturn 0-val\n",
    "\treturn val\n",
    "\n",
    "\n",
    "print(my_abs(-7))\n",
    "\n",
    "\n",
    "letter1=\"Hi\"\n",
    "\n",
    "letter2=\" there\"\n",
    "\n",
    "print(letter1 + letter2.upper())"
   ]
  },
  {
   "cell_type": "code",
   "execution_count": 18,
   "metadata": {},
   "outputs": [
    {
     "name": "stdout",
     "output_type": "stream",
     "text": [
      "12 12 345 345 345 \n",
      "Hi  5\n",
      "Hi 5\n",
      "256\n",
      "voce pode colocar uma função dentro de uma variavel !\n",
      "3\n",
      "5\n"
     ]
    }
   ],
   "source": [
    "#replication, you can multiply strings\n",
    "\n",
    "print('12 '*2 + '345 '*3) # result = 12 12 345 345 345\n",
    "\n",
    "print('Hi ',5) # you can concatenet with comma\n",
    "print('Hi '+ str(5)) # you need str() to change int to string \n",
    "print(4**4)\n",
    "\n",
    "variavel = print('voce pode colocar uma função dentro de uma variavel !')\n",
    "\n",
    "variavel #executa variavel\n",
    "\n",
    "x,y = (3,5)\n",
    "\n",
    "print(x)\n",
    "print(y)"
   ]
  },
  {
   "cell_type": "code",
   "execution_count": 19,
   "metadata": {},
   "outputs": [
    {
     "name": "stdout",
     "output_type": "stream",
     "text": [
      "1\n",
      "2\n",
      "3\n",
      "4\n",
      "5\n",
      "6\n",
      "7\n",
      "8\n",
      "9\n",
      "0\n",
      "1\n",
      "2\n",
      "3\n",
      "4\n",
      "5\n",
      "6\n",
      "7\n",
      "8\n",
      "9\n"
     ]
    }
   ],
   "source": [
    "condition=1\n",
    "\n",
    "while condition <10:\n",
    "\tprint(condition)\n",
    "\tcondition+=1\n",
    "\n",
    "condicao=0\n",
    "while True:\n",
    "\tprint(condicao)\n",
    "\tcondicao+=1\n",
    "\tif condicao == 10:\n",
    "\t\tbreak"
   ]
  },
  {
   "cell_type": "code",
   "execution_count": 20,
   "metadata": {},
   "outputs": [
    {
     "name": "stdout",
     "output_type": "stream",
     "text": [
      "strip tira os espaços e\n",
      "xxxxstrip tira os espaços e++++ \n",
      "\n",
      "******xxxxstrip tira os espaços e++++ \n",
      "\n",
      "******xxxxstrip tira os espaços e++++ \n",
      "\n",
      "['voce', 'pode', 'separar', 'as', 'alavras', 'por', 'espaço']\n",
      "['ou', 'voce', 'pode', 'separar', 'por', 'virgula']\n",
      "el\n",
      "True\n",
      "2\n",
      "-1\n",
      "22345\n"
     ]
    }
   ],
   "source": [
    "x=\"    strip tira os espaços e \\n\"\n",
    "\n",
    "print(x.strip())\n",
    "\n",
    "x='******xxxxstrip tira os espaços e++++ \\n'\n",
    "\n",
    "print(x.strip('*'))\n",
    "print(x.strip('+'))#não funciona quando está no meio da frase\n",
    "print(x.strip('x'))\n",
    "\n",
    "\n",
    "\n",
    "frase=\"voce pode separar as alavras por espaço\"\n",
    "print(frase.split(' '))\n",
    "\n",
    "frase=\"ou,voce,pode,separar,por,virgula\"\n",
    "\n",
    "print(frase.split(','))\n",
    "\n",
    "word=\"hello\"\n",
    "print(word[1:3])#el\n",
    "\n",
    "print(\"he\"in word)#= true\n",
    "\n",
    "print(word.find(\"ll\"))# return 2\n",
    "\n",
    "\n",
    "print(word.find(\"xx\"))# return -1\n",
    "\n",
    "\n",
    "word=\"12345\"\n",
    "\n",
    "print(int(word)+10000) # retorna 22345 pois transforma em numero e faz a soma"
   ]
  },
  {
   "cell_type": "code",
   "execution_count": 21,
   "metadata": {},
   "outputs": [
    {
     "name": "stdout",
     "output_type": "stream",
     "text": [
      "we love data analysis .\n",
      "we love analysis data .\n",
      "11\n",
      "22\n",
      "33\n"
     ]
    },
    {
     "data": {
      "text/plain": [
       "'retorna \\n11\\n22\\n33\\n'"
      ]
     },
     "execution_count": 21,
     "metadata": {},
     "output_type": "execute_result"
    }
   ],
   "source": [
    "#string formatign\n",
    "\n",
    "statment = \"we love {} {} .\"\n",
    "\n",
    "print(statment.format('data','analysis'))\n",
    "\n",
    "statment = \"we love {1} {0} .\"\n",
    "\n",
    "print(statment.format('data','analysis'))\n",
    "\n",
    "\n",
    "list = [11,22,33]\n",
    "\n",
    "for i in list:\n",
    "\tprint(i)\n",
    "\n",
    "'''retorna \n",
    "11\n",
    "22\n",
    "33\n",
    "'''"
   ]
  },
  {
   "cell_type": "code",
   "execution_count": 22,
   "metadata": {},
   "outputs": [
    {
     "name": "stdout",
     "output_type": "stream",
     "text": [
      "11\n",
      "22\n",
      "33\n",
      "[11, 44, 88]\n",
      "[11, 44, 77]\n",
      "[1, 2, 3, 4, 5, 6, 7, 8]\n"
     ]
    }
   ],
   "source": [
    "for i in range(0,len(list)):\n",
    "\tprint(list[i])\n",
    "\n",
    "#deleting from a list\n",
    "\n",
    "list=[11,44,77,88]\n",
    "list.pop(2)\n",
    "print(list)#excluiu 77 = [11, 44, 88]\n",
    "\n",
    "list=[11,44,77,88]\n",
    "list.remove(88)\n",
    "print(list)#excluiu 88 = [11, 44, 77]\n",
    "\n",
    "list=[1,2,3,4]\n",
    "list2=[5,6,7,8]\n",
    "list.extend(list2)\n",
    "print(list)# [1, 2, 3, 4, 5, 6, 7, 8]"
   ]
  },
  {
   "cell_type": "code",
   "execution_count": 23,
   "metadata": {},
   "outputs": [
    {
     "name": "stdout",
     "output_type": "stream",
     "text": [
      "1  -  5\n",
      "2  -  6\n",
      "3  -  7\n",
      "4  -  8\n"
     ]
    },
    {
     "data": {
      "text/plain": [
       "'\\n1  -  5\\n2  -  6\\n3  -  7\\n4  -  8\\n'"
      ]
     },
     "execution_count": 23,
     "metadata": {},
     "output_type": "execute_result"
    }
   ],
   "source": [
    "list=[1,2,3,4]\n",
    "list2=[5,6,7,8]\n",
    "\n",
    "for x,y in zip(list,list2):\n",
    "\tprint(x,\" - \",y)\n",
    "\n",
    "'''\n",
    "1  -  5\n",
    "2  -  6\n",
    "3  -  7\n",
    "4  -  8\n",
    "'''"
   ]
  },
  {
   "cell_type": "code",
   "execution_count": 24,
   "metadata": {},
   "outputs": [
    {
     "name": "stdout",
     "output_type": "stream",
     "text": [
      "[10, 42, 30]\n",
      "civic\n",
      "4\n"
     ]
    }
   ],
   "source": [
    "\n",
    "\n",
    "x = [10,20,30]\n",
    "y = x\n",
    "x[1] = 42\n",
    "print(y) #[10, 42, 30] voce mudou o \"x\" mas o \"y\" está apontando para o X\n",
    "'''\n",
    "x = [1,2,3]\n",
    "y = list(x)\n",
    "print(y)\n",
    "'''\n",
    "# tuple is like a list but it never change - immutabiloty matters\n",
    "tuple1 = (\"Honda\",\"civic\",4, 2018)\n",
    "print(tuple1[1])\n",
    "\n",
    "print(len(tuple1))"
   ]
  },
  {
   "cell_type": "code",
   "execution_count": 25,
   "metadata": {},
   "outputs": [
    {
     "name": "stdout",
     "output_type": "stream",
     "text": [
      "Honda\n",
      "civic\n",
      "4\n",
      "2018\n",
      "{('filme', 2001): 5.4, ('filme2', 1984): 7.8}\n",
      "5.4\n",
      "função get envia os dados para x = 5.4\n",
      "{('filme2', 1984): 7.8}\n",
      "{}\n",
      "===trabalhando com dict to remove===\n"
     ]
    }
   ],
   "source": [
    "for i in tuple1:\n",
    "\tprint(i)\n",
    "\n",
    "#dictionary\n",
    "\n",
    "dict = {('filme',2001): 5.4, \n",
    "\t\t('filme2',1984):7.8}\n",
    "\n",
    "print(dict)#{('filme', 2001): 5.4, ('filme2', 1984): 7.8}\n",
    "\n",
    "print(dict[('filme',2001)]) #5.4\n",
    "\n",
    "x=dict.get(('filme',2001))\n",
    "print(\"função get envia os dados para x = \"+str(x))\n",
    "\n",
    "#you can use pop or DEL comand to elimyante any information\n",
    "dict.pop(('filme',2001))\n",
    "print(dict) #{('filme2', 1984): 7.8}\n",
    "\n",
    "del dict[('filme2', 1984)]\n",
    "print(dict) # {}\n",
    "\n",
    "print(\"===trabalhando com dict to remove===\")\n",
    "dict = {('filme',2001): 5.4, \n",
    "\t\t('filme2',1984):7.8}"
   ]
  },
  {
   "cell_type": "code",
   "execution_count": 26,
   "metadata": {},
   "outputs": [
    {
     "name": "stdout",
     "output_type": "stream",
     "text": [
      "{('filme', 2001): 5.4, ('filme2', 1984): 7.8}\n",
      "{('filme', 2001): 5.4}\n",
      "[('filme2', 1984)]\n",
      "===list comprehension===\n",
      "[1, 4, 9, 16, 25, 36, 49, 64, 81, 100]\n",
      "[0, 1, 2, 3, 4, 5]\n",
      "[0, 2, 4, 6, 8, 10]\n",
      "[0, 1, 0, 1, 0, 1, 0, 1, 0, 1]\n",
      "[1, 0, 0, 3, 0, 4, 4, 5, 1, 0]\n",
      "{1: 1, 2: 4, 3: 9, 4: 16, 5: 25, 6: 36, 7: 49, 8: 64, 9: 81, 10: 100}\n",
      "{65: 'A', 66: 'B', 67: 'C', 68: 'D', 69: 'E', 70: 'F', 71: 'G', 72: 'H', 73: 'I', 74: 'J', 75: 'K', 76: 'L', 77: 'M', 78: 'N', 79: 'O', 80: 'P', 81: 'Q', 82: 'R', 83: 'S', 84: 'T', 85: 'U', 86: 'V', 87: 'W', 88: 'X', 89: 'Y'}\n"
     ]
    }
   ],
   "source": [
    "to_remove=[]\n",
    "\n",
    "for i in dict:\n",
    "\tif(i[1] < 2000):\n",
    "\t\tto_remove.append(i)\n",
    "\t\tprint(dict)\n",
    " \n",
    "for i in to_remove:\n",
    "\tdict.pop(i)\n",
    "\tprint(dict)#{('filme', 2001): 5.4}\n",
    "\n",
    "print(to_remove)#[('filme2', 1984)]\n",
    "\n",
    "print(\"===list comprehension===\")\n",
    "list = [i**2 for i in range (1,11)]\n",
    "\n",
    "print(list) #[1, 4, 9, 16, 25, 36, 49, 64, 81, 100]\n",
    "\n",
    "list = [i for i in range(0,6)]\n",
    "print(list) #[0, 1, 2, 3, 4, 5]\n",
    "\n",
    "list = [i for i in range(0,12,2)]\n",
    "print(list) #[0, 2, 4, 6, 8, 10] vai de 2 em 2\n",
    "\n",
    "list = [i%2 for i in range(0,10)]\n",
    "print(list) #[0, 1, 0, 1, 0, 1, 0, 1, 0, 1] \n",
    "\n",
    "import random\n",
    "list = [random.randint(0,5) for i in range (0,10)]\n",
    "print(list) #[3, 5, 5, 1, 4, 3, 4, 0, 1, 4]  gera lilsta randomica [5, 5, 5, 1, 3, 2, 2, 5, 2, 0]\n",
    "\n",
    "dict = {i : i**2 for i in range(1,11)}\n",
    "print(dict)#{1: 1, 2: 4, 3: 9, 4: 16, 5: 25, 6: 36, 7: 49, 8: 64, 9: 81, 10: 100}\n",
    "\n",
    "dict = {i : chr(i) for i in range(65,90)}\n",
    "print(dict)\n",
    "#{65: 'A', 66: 'B', 67: 'C', 68: 'D', 69: 'E', 70: 'F', 71: 'G', 72: 'H', 73: 'I', \n",
    "# 74: 'J', 75: 'K', 76: 'L', 77: 'M', 78: 'N', 79: 'O', 80: 'P', 81: 'Q', 82: 'R', \n",
    "# 83: 'S', 84: 'T', 85: 'U', 86: 'V', 87: 'W', 88: 'X', 89: 'Y'}"
   ]
  },
  {
   "cell_type": "code",
   "execution_count": 27,
   "metadata": {},
   "outputs": [
    {
     "name": "stdout",
     "output_type": "stream",
     "text": [
      "===Sets in Python===\n",
      "{'blue', 'red', 'green'}\n",
      "{'blue', 'red', 'green', 'yellow'}\n",
      "{'blue', 'green', 'yellow'}\n",
      "{'green', 'yellow', 'blue', 'black', 'white'}\n",
      "1\n",
      "ainda faz parte do for pois está identado\n",
      "2\n",
      "ainda faz parte do for pois está identado\n",
      "3\n",
      "ainda faz parte do for pois está identado\n",
      "4\n",
      "ainda faz parte do for pois está identado\n",
      "5\n",
      "ainda faz parte do for pois está identado\n",
      "356\n",
      "ainda faz parte do for pois está identado\n",
      "19\n",
      "ainda faz parte do for pois está identado\n",
      "65\n",
      "ainda faz parte do for pois está identado\n",
      "só imprime depois que termina o codigo\n"
     ]
    }
   ],
   "source": [
    "print(\"===Sets in Python===\")\n",
    "leos_colors = set(['blue','green','red'])\n",
    "print(leos_colors)#{'red', 'green', 'blue'}\n",
    "\n",
    "leos_colors.add('yellow')\n",
    "print(leos_colors)#{'yellow', 'blue', 'red', 'green'}\n",
    "\n",
    "leos_colors.discard('red')\n",
    "print(leos_colors)#{'green', 'blue', 'yellow'}\n",
    "\n",
    "ilkays_colors = set(['black','white'])\n",
    "\n",
    "either = ilkays_colors.union(leos_colors)\n",
    "print(either)#{'yellow', 'black', 'green', 'white', 'blue'}\n",
    "\n",
    "\n",
    "exampleList = [1,2,3,4,5,356,19,65]\n",
    "\n",
    "for eachNumber in exampleList:\n",
    "    print(eachNumber)\n",
    "    print(\"ainda faz parte do for pois está identado\")\n",
    "\n",
    "\n",
    "print(\"só imprime depois que termina o codigo\")\n",
    "\n",
    "\n"
   ]
  },
  {
   "cell_type": "code",
   "execution_count": 28,
   "metadata": {},
   "outputs": [
    {
     "name": "stdout",
     "output_type": "stream",
     "text": [
      "y é maior que z, maior que x e maior q a\n",
      "z é menor ou igual a x\n",
      "z é igual a x\n",
      "z não é igual a y\n"
     ]
    }
   ],
   "source": [
    "x=5\n",
    "y=8\n",
    "z=5\n",
    "a=3\n",
    "\n",
    "if z< y > x > a:\n",
    "    print(\"y é maior que z, maior que x e maior q a\")\n",
    "\n",
    "if z<=x:\n",
    "    print(\"z é menor ou igual a x\")\n",
    "\n",
    "if z==x:\n",
    "    print(\"z é igual a x\")\n",
    "\n",
    "if z!=y:\n",
    "    print(\"z não é igual a y\")"
   ]
  },
  {
   "cell_type": "code",
   "execution_count": 30,
   "metadata": {},
   "outputs": [
    {
     "name": "stdout",
     "output_type": "stream",
     "text": [
      "digite um numero para calcular o fatorial 12\n",
      "o fatorial de 12 é 78\n"
     ]
    }
   ],
   "source": [
    "# funções recursivas em python\n",
    "\n",
    "def fatorial(numero):\n",
    "    if numero == 0 or numero == 1:\n",
    "        return 1\n",
    "    else:\n",
    "        return numero + fatorial(numero-1)\n",
    "\n",
    "x=int(input(\"digite um numero para calcular o fatorial \"))\n",
    "res= fatorial(x)\n",
    "\n",
    "print(\"o fatorial de %d é %d\" % (x,res))\n"
   ]
  },
  {
   "cell_type": "code",
   "execution_count": null,
   "metadata": {},
   "outputs": [],
   "source": []
  }
 ],
 "metadata": {
  "kernelspec": {
   "display_name": "Python 3",
   "language": "python",
   "name": "python3"
  },
  "language_info": {
   "codemirror_mode": {
    "name": "ipython",
    "version": 3
   },
   "file_extension": ".py",
   "mimetype": "text/x-python",
   "name": "python",
   "nbconvert_exporter": "python",
   "pygments_lexer": "ipython3",
   "version": "3.6.5"
  }
 },
 "nbformat": 4,
 "nbformat_minor": 2
}
